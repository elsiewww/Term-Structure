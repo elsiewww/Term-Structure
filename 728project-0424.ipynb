{
  "cells": [
    {
      "cell_type": "markdown",
      "metadata": {
        "id": "R_nEfX7OzdoZ"
      },
      "source": [
        "# The GSW Dataset"
      ]
    },
    {
      "cell_type": "markdown",
      "metadata": {
        "id": "gUW1w0Pizf2y"
      },
      "source": [
        "We use the estimates of the US treasury yield curve provided by the Fed in the well-known [GSW dataset](https://www.federalreserve.gov/data/nominal-yield-curve.htm). The dataset is named after its creators Refet S. Gurkaynak, Brian P. Sack, and Jonathan H. Wright, who published a paper in 2006 titled \"The U.S. Treasury Yield Curve: 1961 to the Present\" to introduce the methodology and the dataset. It is widely used by researchers, market practitioners, and policymakers for analyzing the term structure of interest rates and their evolution over time.\n",
        "\n",
        "The GSW dataset is based on a parametric yield curve model, specifically an extended version of the Nelson-Siegel model, also called the Svensson model. The GSW yield curve estimates are constructed using a large set of U.S. Treasury securities with varying maturities. The model aims to provide a smooth, continuous representation of the yield curve while minimizing the differences between the model-implied and observed yields for the Treasury securities.\n",
        "\n",
        "The GSW dataset includes daily estimates of the zero-coupon yield curve for U.S. Treasury securities. The dataset provides yield estimates for a range of maturities, from 3 months to 30 years, and covers a long historical period starting in 1961.\n"
      ]
    },
    {
      "cell_type": "markdown",
      "metadata": {
        "id": "eQXTNIy7z8on"
      },
      "source": [
        "# The Svensson Model"
      ]
    },
    {
      "cell_type": "markdown",
      "metadata": {
        "id": "4N7mniJE0ZFD"
      },
      "source": [
        "The Svensson model, also known as the extended Nelson-Siegel model, is a parametric model used to estimate and represent the term structure of interest rates or the yield curve. It was introduced by Lars E.O. Svensson in 1994 as an extension of the earlier Nelson-Siegel model. The Svensson model aims to provide a smooth, continuous representation of the yield curve while minimizing the differences between the model-implied yields and the observed yields for a set of fixed income securities.Below is the Svensson model of yields:\n",
        "\n",
        "$$ f(t, t+m) = \\beta_0 + \\beta_1exp(-\\frac{m}{\\tau_1}) + \\beta_2\\frac{m}{\\tau_1}exp(-\\frac{m}{\\tau_1}) + \\beta_3\\frac{m}{\\tau_2}exp(-\\frac{m}{\\tau_2})$$\n",
        "\n",
        "Note that all parameters in the model are reported in the [GSW dataset](https://www.federalreserve.gov/data/nominal-yield-curve.htm). The Svensson model uses a four-component functional form to represent the yield curve. These components include: a constant term representing the long-term level of interest rates $\\beta_0$; a decaying term representing the slope of the yield curve $\\beta_1exp(-\\frac{m}{\\tau_1})$; two exponential terms representing the curvature and a second hump or inflection point in the yield curve, which is $\\beta_2\\frac{m}{\\tau_1}exp(-\\frac{m}{\\tau_1}) + \\beta_3\\frac{m}{\\tau_2}exp(-\\frac{m}{\\tau_2})$\n",
        "\n",
        "\n",
        "\n",
        "\n",
        "\n",
        "\n"
      ]
    },
    {
      "cell_type": "markdown",
      "metadata": {
        "id": "VYseP4hU6lIH"
      },
      "source": [
        "# Data Parsing"
      ]
    },
    {
      "cell_type": "markdown",
      "metadata": {
        "id": "K4x7AnX76vWn"
      },
      "source": [
        "We use the load_gsw function to load and convert data from the GWS dataset into the Svensson model estimates of yields as well as corrresponding maturities. Using the YTM data, we compute the prices of Zero Bonds, before obtaining the excess log return of Zero Bonds for each maturities on each date."
      ]
    },
    {
      "cell_type": "code",
      "execution_count": 1501,
      "metadata": {
        "id": "MDrJVPk2NEYz"
      },
      "outputs": [],
      "source": [
        "import pandas as pd\n",
        "import numpy as np\n",
        "from pandas.tseries.offsets import *\n",
        "from datetime import datetime\n",
        "\n",
        "def load_gsw(filename: str, n_maturities: int): # Load GSW dataset.               \n",
        "  \n",
        "  data = pd.read_csv(filename)\n",
        "  for i in range(len(data['Date'])):\n",
        "    data.iloc[i, 0] = datetime.strptime(data.iloc[i, 0], '%m/%d/%Y') # parse strings in 'Date' column and turn it into datetime object\n",
        "\n",
        "  data = data.set_index(data['Date']) # set date as index \n",
        "  data.index = pd.to_datetime(data.index)\n",
        "  data = data.resample('BM').last() # use the last data in each month as proxy for the month's data \n",
        "  data.index = pd.to_datetime(data.index)\n",
        "  data.index = data.index + DateOffset() # move index forward by one day so that it becomes the first business day of the month\n",
        "  plot_dates = pd.to_datetime(data['Date']) # create the 'plot_data' output in type of datetime for matpoltlib plotting\n",
        "\n",
        "  Beta0 = data['BETA0']\n",
        "  Beta1 = data['BETA1']\n",
        "  Beta2 = data['BETA2']\n",
        "  Beta3 = data['BETA3']\n",
        "  Tau1  = data['TAU1']\n",
        "  Tau2  = data['TAU2']\n",
        "\n",
        "  def nss_yield(m): # Nelson, Svensson, Siegel yield curve parameterization\n",
        "    return Beta0 + Beta1 * (1 - np.exp(-m / Tau1)) / (m / Tau1) + \\\n",
        "        Beta2 * ((1 - np.exp(-m/Tau1))/(m/Tau1) - np.exp(-m/Tau1)) + \\\n",
        "        Beta3 * ((1 - np.exp(-m/Tau2))/(m/Tau2) - np.exp(-m/Tau2))\n",
        "\n",
        "  # Compute yields\n",
        "  # rawYields is a n-dimensional array with nrow = data.shape[0] and ncol = n_maturities\n",
        "  # n_maturities is in the unit of months\n",
        "  rawYields = np.ndarray(shape=(data.shape[0], n_maturities))\n",
        "\n",
        "  for maturity in range(0, n_maturities):\n",
        "      rawYields[:, maturity] = nss_yield((maturity+1)/12.0)\n",
        "\n",
        "  # the output of the function\n",
        "  # piecewise constant forward rates for month intervals from month #1 till month #120\n",
        "  # which are estimated by the Svensson model using paramters estimated by the Fed\n",
        "  # provided in the GSW dataset \n",
        "  return rawYields, plot_dates \n"
      ]
    },
    {
      "cell_type": "code",
      "execution_count": 1502,
      "metadata": {
        "id": "GL5xbXhzHqAV"
      },
      "outputs": [],
      "source": [
        "# Demonstrates the Adrian, Crump and Moench (2013) term structure estimation procedure.\n",
        "# This procedure allows instantaneous estimation of an affine term structure model.\n",
        "\n",
        "\n",
        "import pandas as p\n",
        "import numpy as np\n",
        "from numpy import newaxis\n",
        "from sklearn.preprocessing import StandardScaler\n",
        "import matplotlib.pyplot as plt\n",
        "import matplotlib.dates as mdates\n",
        "\n",
        "\n",
        "# User-specified options.\n",
        "# Compute yields and excess returns for maturities up to 10 years / 120 months.\n",
        "n_maturities = 120  \n",
        "# Use five factors (i.e. five principal components of yields)\n",
        "K = 5  \n",
        "# Use excess returns at these maturities to estimate the model.\n",
        "rx_maturities = (6, 18, 24, 36, 48, 60, 84, 120) \n",
        "\n",
        "\n",
        "# Helper functions\n",
        "def vec(x):\n",
        "    return np.reshape(x, (-1, 1))\n",
        "def vec_quad_form(x):\n",
        "    return vec(np.outer(x, x))"
      ]
    },
    {
      "cell_type": "code",
      "execution_count": 1503,
      "metadata": {
        "colab": {
          "base_uri": "https://localhost:8080/"
        },
        "id": "7xx1ALBeOlC5",
        "outputId": "e83384b7-4085-46bd-84ea-35c67b8af556"
      },
      "outputs": [],
      "source": [
        "# from google.colab import drive\n",
        "# drive.mount('/content/drive')\n",
        "# %cd /content/drive/MyDrive/728project"
      ]
    },
    {
      "cell_type": "code",
      "execution_count": 1504,
      "metadata": {
        "colab": {
          "base_uri": "https://localhost:8080/"
        },
        "id": "Yjgp2AAiM9NS",
        "outputId": "dc159696-4b7d-410f-d41d-03851644f595"
      },
      "outputs": [],
      "source": [
        "rawYields, plot_dates = load_gsw('C:\\\\Users\\\\邹竟翔\\\\Desktop\\\\728gogogo\\\\feds200628.csv', n_maturities) # please beware that rawYields in the unit of percent\n",
        "# rawYields = 0.01 * rawYields\n",
        "# we need to use the discrepency of logprices to get rate shifts\n",
        "# that leaves us with (rawYields.shape[0] - 1) observations \n",
        "t = rawYields.shape[0] - 1\n",
        "\n",
        "# Compute log excess returns from continuously compounded yields\n",
        "ttm = np.arange(1.0, n_maturities + 1.0)[newaxis, :] / 12.0 # time to maturity, in unit of years, from 1 mon till 10 years\n",
        "# the np.arrange function creates a one dimensional array, while the newaxis keyword creates a new dimension so that the data becomes a 2 dim matrix in the dims of (1, n_maturities)\n",
        "logPrices = - rawYields * ttm\n",
        "# the risk free rate equals the 1-month rate \n",
        "rf = -logPrices[:-1, [0]] # number of observations set to equal t\n",
        "rx = logPrices[1:, :-1] - logPrices[:-1, 1:] - rf"
      ]
    },
    {
      "cell_type": "code",
      "execution_count": 1505,
      "metadata": {},
      "outputs": [
        {
          "data": {
            "text/html": [
              "<div>\n",
              "<style scoped>\n",
              "    .dataframe tbody tr th:only-of-type {\n",
              "        vertical-align: middle;\n",
              "    }\n",
              "\n",
              "    .dataframe tbody tr th {\n",
              "        vertical-align: top;\n",
              "    }\n",
              "\n",
              "    .dataframe thead th {\n",
              "        text-align: right;\n",
              "    }\n",
              "</style>\n",
              "<table border=\"1\" class=\"dataframe\">\n",
              "  <thead>\n",
              "    <tr style=\"text-align: right;\">\n",
              "      <th></th>\n",
              "      <th>0</th>\n",
              "      <th>1</th>\n",
              "      <th>2</th>\n",
              "      <th>3</th>\n",
              "      <th>4</th>\n",
              "      <th>5</th>\n",
              "      <th>6</th>\n",
              "      <th>7</th>\n",
              "      <th>8</th>\n",
              "      <th>9</th>\n",
              "      <th>...</th>\n",
              "      <th>110</th>\n",
              "      <th>111</th>\n",
              "      <th>112</th>\n",
              "      <th>113</th>\n",
              "      <th>114</th>\n",
              "      <th>115</th>\n",
              "      <th>116</th>\n",
              "      <th>117</th>\n",
              "      <th>118</th>\n",
              "      <th>119</th>\n",
              "    </tr>\n",
              "  </thead>\n",
              "  <tbody>\n",
              "    <tr>\n",
              "      <th>0</th>\n",
              "      <td>0.083333</td>\n",
              "      <td>0.166667</td>\n",
              "      <td>0.25</td>\n",
              "      <td>0.333333</td>\n",
              "      <td>0.416667</td>\n",
              "      <td>0.5</td>\n",
              "      <td>0.583333</td>\n",
              "      <td>0.666667</td>\n",
              "      <td>0.75</td>\n",
              "      <td>0.833333</td>\n",
              "      <td>...</td>\n",
              "      <td>9.25</td>\n",
              "      <td>9.333333</td>\n",
              "      <td>9.416667</td>\n",
              "      <td>9.5</td>\n",
              "      <td>9.583333</td>\n",
              "      <td>9.666667</td>\n",
              "      <td>9.75</td>\n",
              "      <td>9.833333</td>\n",
              "      <td>9.916667</td>\n",
              "      <td>10.0</td>\n",
              "    </tr>\n",
              "  </tbody>\n",
              "</table>\n",
              "<p>1 rows × 120 columns</p>\n",
              "</div>"
            ],
            "text/plain": [
              "        0         1     2         3         4    5         6         7    \\\n",
              "0  0.083333  0.166667  0.25  0.333333  0.416667  0.5  0.583333  0.666667   \n",
              "\n",
              "    8         9    ...   110       111       112  113       114       115  \\\n",
              "0  0.75  0.833333  ...  9.25  9.333333  9.416667  9.5  9.583333  9.666667   \n",
              "\n",
              "    116       117       118   119  \n",
              "0  9.75  9.833333  9.916667  10.0  \n",
              "\n",
              "[1 rows x 120 columns]"
            ]
          },
          "execution_count": 1505,
          "metadata": {},
          "output_type": "execute_result"
        }
      ],
      "source": [
        "pd.DataFrame(ttm)"
      ]
    },
    {
      "cell_type": "markdown",
      "metadata": {
        "id": "LIrWllgs_N1T"
      },
      "source": [
        "# Extracting Principle Components"
      ]
    },
    {
      "cell_type": "markdown",
      "metadata": {
        "id": "Tt3EqxUDfP2K"
      },
      "source": [
        "We first scale the yields using the StandardScaler class from the sklearn. preprocessing module. We use the standard deviation to scale the data via the with_std=True argument. We scale the data so that the covariance matrix of the yields is comparable to a coefficient matrix\n",
        "\n"
      ]
    },
    {
      "cell_type": "code",
      "execution_count": 1506,
      "metadata": {
        "id": "7-KtPB-b_TDL"
      },
      "outputs": [],
      "source": [
        "scaledYields = StandardScaler(with_std=True).fit_transform(rawYields)[:, 0:120]"
      ]
    },
    {
      "cell_type": "markdown",
      "metadata": {
        "id": "S6tG8liQhY2D"
      },
      "source": [
        "We further compute the covariance matrix of scaled yeilds **across maturities** represented by scaledYieldCov. This covariance matrix is scaled to be comparable to correlation coefficent matrix and is the material for Principle Component Analysis. "
      ]
    },
    {
      "cell_type": "code",
      "execution_count": 1507,
      "metadata": {
        "colab": {
          "base_uri": "https://localhost:8080/",
          "height": 487
        },
        "id": "8pOv5xaFgefZ",
        "outputId": "09ac78c1-ddc7-448a-bcde-941152e7ac5c"
      },
      "outputs": [],
      "source": [
        "scaledYieldCov = np.cov(scaledYields.T)"
      ]
    },
    {
      "cell_type": "markdown",
      "metadata": {
        "id": "xCF-sZ9Xi0XJ"
      },
      "source": [
        "The np.linalg.eig() function takes a matrix as input and returns two arrays: the eigenvalues and eigenvectors of the input matrix. The resulting eigenvalues array contains the magnitudes of the eigenvalues, which represent the amount of variance explained by each corresponding eigenvector. The eigenvectors array contains the corresponding eigenvectors, which represent the directions in which the data varies the most."
      ]
    },
    {
      "cell_type": "code",
      "execution_count": 1508,
      "metadata": {
        "id": "A8l8HR6zg4bR"
      },
      "outputs": [],
      "source": [
        "[eigenvalues, eigenvectors] = np.linalg.eig(scaledYieldCov)"
      ]
    },
    {
      "cell_type": "markdown",
      "metadata": {
        "id": "ciwIH51ojUc-"
      },
      "source": [
        "Each principle component is a linear combination of the data."
      ]
    },
    {
      "cell_type": "code",
      "execution_count": 1509,
      "metadata": {
        "colab": {
          "base_uri": "https://localhost:8080/",
          "height": 487
        },
        "id": "zcPzX2n-jhgG",
        "outputId": "3aca8237-4052-4d97-cefd-fe0a4a8dc56e"
      },
      "outputs": [],
      "source": [
        "yieldPCs = StandardScaler().fit_transform(scaledYields @ np.real(eigenvectors))"
      ]
    },
    {
      "cell_type": "markdown",
      "metadata": {
        "id": "XN9-p3Vdl3kc"
      },
      "source": [
        "# Determining The Number Of Components\n",
        "We now attempt to determine an appropriate number of principle compnents. We want just the right amount of components to capture a vast majority of the variance in data."
      ]
    },
    {
      "cell_type": "code",
      "execution_count": 1510,
      "metadata": {
        "colab": {
          "base_uri": "https://localhost:8080/",
          "height": 564
        },
        "id": "Ll4toV0qmYnW",
        "outputId": "524618bd-3a68-4c67-9a97-423fce369c28"
      },
      "outputs": [
        {
          "data": {
            "image/png": "[encoded data removed]",
            "text/plain": [
              "<Figure size 1200x600 with 1 Axes>"
            ]
          },
          "metadata": {},
          "output_type": "display_data"
        }
      ],
      "source": [
        "from sklearn.decomposition import PCA\n",
        "pca = PCA().fit(scaledYields.T)\n",
        "\n",
        "# matplotlib inline\n",
        "import matplotlib.pyplot as plt\n",
        "plt.rcParams[\"figure.figsize\"] = (12,6)\n",
        "\n",
        "fig, ax = plt.subplots()\n",
        "xi = np.arange(1, 11, step=1)\n",
        "y = np.cumsum(pca.explained_variance_ratio_)[0:10]\n",
        "\n",
        "plt.ylim(0.0,1.1)\n",
        "plt.plot(xi, y, marker='o', linestyle='--', color='b')\n",
        "\n",
        "plt.xlabel('Number of Risk Factors')\n",
        "plt.xticks(np.arange(0, 11, step=1)) #change from 0-based array index to 1-based human-readable label\n",
        "plt.ylabel('Cumulative variance (%)')\n",
        "plt.title('Number of Factors Needed to Explain Variance')\n",
        "\n",
        "plt.axhline(y=0.99, color='r', linestyle='-')\n",
        "plt.text(0.5, 0.89, '99% cut-off threshold', color = 'red', fontsize=16)\n",
        "\n",
        "ax.grid(axis='x')\n",
        "plt.show()"
      ]
    },
    {
      "cell_type": "markdown",
      "metadata": {
        "id": "97EXS-KToPCc"
      },
      "source": [
        "One can infer from the plot that 4 components may suffice to explain over 99% of the variance in data. But in fact Adrian, Crump and Moench decided to incorporate 5 factors in the model, and so wil we in our model.\n",
        "\n",
        "In their paper, Adrian, Crump, and Moench (2013) provide some justification for their choice of 5 factors in the ACM model.They note that prior research had suggested that 3 factors were sufficient to explain the dynamics of the term structure of interest rates, but that more recent studies had found evidence of additional factors. They cite empirical studies that suggest that including more factors can improve the model's ability to explain the term structure of interest rates and forecast future changes.\n",
        "\n",
        "The authors also note that the choice of 5 factors was influenced by practical considerations, such as the need to balance the trade-off between model complexity and accuracy. They state that **\"adding too many factors can lead to overfitting and instability, while too few factors can result in a poor fit to the data.\"**\n",
        "\n",
        "In later part of our research, we will explore the possible consequences when less than 5 factors are incorporated in the model."
      ]
    },
    {
      "cell_type": "code",
      "execution_count": 1511,
      "metadata": {
        "colab": {
          "base_uri": "https://localhost:8080/",
          "height": 299
        },
        "id": "z71DlFesjsne",
        "outputId": "841c16e4-f070-4505-ef23-f7379e58c788"
      },
      "outputs": [
        {
          "data": {
            "text/html": [
              "<div>\n",
              "<style scoped>\n",
              "    .dataframe tbody tr th:only-of-type {\n",
              "        vertical-align: middle;\n",
              "    }\n",
              "\n",
              "    .dataframe tbody tr th {\n",
              "        vertical-align: top;\n",
              "    }\n",
              "\n",
              "    .dataframe thead th {\n",
              "        text-align: right;\n",
              "    }\n",
              "</style>\n",
              "<table border=\"1\" class=\"dataframe\">\n",
              "  <thead>\n",
              "    <tr style=\"text-align: right;\">\n",
              "      <th></th>\n",
              "      <th>0</th>\n",
              "      <th>1</th>\n",
              "      <th>2</th>\n",
              "      <th>3</th>\n",
              "      <th>4</th>\n",
              "      <th>5</th>\n",
              "      <th>6</th>\n",
              "      <th>7</th>\n",
              "      <th>8</th>\n",
              "      <th>9</th>\n",
              "      <th>...</th>\n",
              "      <th>733</th>\n",
              "      <th>734</th>\n",
              "      <th>735</th>\n",
              "      <th>736</th>\n",
              "      <th>737</th>\n",
              "      <th>738</th>\n",
              "      <th>739</th>\n",
              "      <th>740</th>\n",
              "      <th>741</th>\n",
              "      <th>742</th>\n",
              "    </tr>\n",
              "  </thead>\n",
              "  <tbody>\n",
              "    <tr>\n",
              "      <th>0</th>\n",
              "      <td>0.607077</td>\n",
              "      <td>0.593167</td>\n",
              "      <td>0.555737</td>\n",
              "      <td>0.598744</td>\n",
              "      <td>0.606917</td>\n",
              "      <td>0.589888</td>\n",
              "      <td>0.570925</td>\n",
              "      <td>0.538187</td>\n",
              "      <td>0.599443</td>\n",
              "      <td>0.633146</td>\n",
              "      <td>...</td>\n",
              "      <td>0.874711</td>\n",
              "      <td>0.696869</td>\n",
              "      <td>0.453436</td>\n",
              "      <td>0.369833</td>\n",
              "      <td>0.477872</td>\n",
              "      <td>0.431738</td>\n",
              "      <td>0.532706</td>\n",
              "      <td>0.379688</td>\n",
              "      <td>0.541592</td>\n",
              "      <td>0.571883</td>\n",
              "    </tr>\n",
              "    <tr>\n",
              "      <th>1</th>\n",
              "      <td>-0.266645</td>\n",
              "      <td>0.049919</td>\n",
              "      <td>-0.156347</td>\n",
              "      <td>-0.207748</td>\n",
              "      <td>-0.154738</td>\n",
              "      <td>-0.265540</td>\n",
              "      <td>-0.404608</td>\n",
              "      <td>-0.269716</td>\n",
              "      <td>-0.374256</td>\n",
              "      <td>-0.256334</td>\n",
              "      <td>...</td>\n",
              "      <td>-1.469086</td>\n",
              "      <td>-1.325595</td>\n",
              "      <td>-1.349326</td>\n",
              "      <td>-1.380914</td>\n",
              "      <td>-2.044984</td>\n",
              "      <td>-1.889099</td>\n",
              "      <td>-2.253075</td>\n",
              "      <td>-1.870194</td>\n",
              "      <td>-2.133797</td>\n",
              "      <td>-2.227149</td>\n",
              "    </tr>\n",
              "    <tr>\n",
              "      <th>2</th>\n",
              "      <td>0.826767</td>\n",
              "      <td>1.069951</td>\n",
              "      <td>0.801900</td>\n",
              "      <td>1.104938</td>\n",
              "      <td>0.918496</td>\n",
              "      <td>0.876462</td>\n",
              "      <td>0.989880</td>\n",
              "      <td>1.262794</td>\n",
              "      <td>0.870626</td>\n",
              "      <td>0.694197</td>\n",
              "      <td>...</td>\n",
              "      <td>0.909252</td>\n",
              "      <td>1.189609</td>\n",
              "      <td>1.265463</td>\n",
              "      <td>0.997635</td>\n",
              "      <td>0.435381</td>\n",
              "      <td>0.408292</td>\n",
              "      <td>0.095669</td>\n",
              "      <td>1.541035</td>\n",
              "      <td>-0.104986</td>\n",
              "      <td>-0.181220</td>\n",
              "    </tr>\n",
              "    <tr>\n",
              "      <th>3</th>\n",
              "      <td>-1.151464</td>\n",
              "      <td>-1.150391</td>\n",
              "      <td>-1.192269</td>\n",
              "      <td>-1.112915</td>\n",
              "      <td>-0.897556</td>\n",
              "      <td>-1.027808</td>\n",
              "      <td>-1.200439</td>\n",
              "      <td>-1.174431</td>\n",
              "      <td>-0.783352</td>\n",
              "      <td>-0.635628</td>\n",
              "      <td>...</td>\n",
              "      <td>-0.388100</td>\n",
              "      <td>-0.794906</td>\n",
              "      <td>-0.785783</td>\n",
              "      <td>-0.043895</td>\n",
              "      <td>0.216858</td>\n",
              "      <td>0.191303</td>\n",
              "      <td>0.673046</td>\n",
              "      <td>0.630857</td>\n",
              "      <td>0.706321</td>\n",
              "      <td>0.835226</td>\n",
              "    </tr>\n",
              "    <tr>\n",
              "      <th>4</th>\n",
              "      <td>0.748415</td>\n",
              "      <td>0.480257</td>\n",
              "      <td>0.810790</td>\n",
              "      <td>0.334387</td>\n",
              "      <td>0.485260</td>\n",
              "      <td>1.336875</td>\n",
              "      <td>1.692814</td>\n",
              "      <td>0.253659</td>\n",
              "      <td>0.444046</td>\n",
              "      <td>0.503653</td>\n",
              "      <td>...</td>\n",
              "      <td>-0.286275</td>\n",
              "      <td>-0.087612</td>\n",
              "      <td>-0.415590</td>\n",
              "      <td>-0.925573</td>\n",
              "      <td>-0.302616</td>\n",
              "      <td>-0.235139</td>\n",
              "      <td>-0.380314</td>\n",
              "      <td>-2.335659</td>\n",
              "      <td>0.176232</td>\n",
              "      <td>0.115111</td>\n",
              "    </tr>\n",
              "  </tbody>\n",
              "</table>\n",
              "<p>5 rows × 743 columns</p>\n",
              "</div>"
            ],
            "text/plain": [
              "        0         1         2         3         4         5         6    \\\n",
              "0  0.607077  0.593167  0.555737  0.598744  0.606917  0.589888  0.570925   \n",
              "1 -0.266645  0.049919 -0.156347 -0.207748 -0.154738 -0.265540 -0.404608   \n",
              "2  0.826767  1.069951  0.801900  1.104938  0.918496  0.876462  0.989880   \n",
              "3 -1.151464 -1.150391 -1.192269 -1.112915 -0.897556 -1.027808 -1.200439   \n",
              "4  0.748415  0.480257  0.810790  0.334387  0.485260  1.336875  1.692814   \n",
              "\n",
              "        7         8         9    ...       733       734       735       736  \\\n",
              "0  0.538187  0.599443  0.633146  ...  0.874711  0.696869  0.453436  0.369833   \n",
              "1 -0.269716 -0.374256 -0.256334  ... -1.469086 -1.325595 -1.349326 -1.380914   \n",
              "2  1.262794  0.870626  0.694197  ...  0.909252  1.189609  1.265463  0.997635   \n",
              "3 -1.174431 -0.783352 -0.635628  ... -0.388100 -0.794906 -0.785783 -0.043895   \n",
              "4  0.253659  0.444046  0.503653  ... -0.286275 -0.087612 -0.415590 -0.925573   \n",
              "\n",
              "        737       738       739       740       741       742  \n",
              "0  0.477872  0.431738  0.532706  0.379688  0.541592  0.571883  \n",
              "1 -2.044984 -1.889099 -2.253075 -1.870194 -2.133797 -2.227149  \n",
              "2  0.435381  0.408292  0.095669  1.541035 -0.104986 -0.181220  \n",
              "3  0.216858  0.191303  0.673046  0.630857  0.706321  0.835226  \n",
              "4 -0.302616 -0.235139 -0.380314 -2.335659  0.176232  0.115111  \n",
              "\n",
              "[5 rows x 743 columns]"
            ]
          },
          "execution_count": 1511,
          "metadata": {},
          "output_type": "execute_result"
        }
      ],
      "source": [
        "X = yieldPCs[:, 0:K].T\n",
        "pd.DataFrame(X)"
      ]
    },
    {
      "cell_type": "markdown",
      "metadata": {
        "id": "35BCynWiqXGw"
      },
      "source": [
        "These are the 5 principle components, also known as risk factors in the ACM model."
      ]
    },
    {
      "cell_type": "markdown",
      "metadata": {
        "id": "RxyUlWz4Ap9q"
      },
      "source": [
        "# ACM Model Estimation: 3-Step Procedure"
      ]
    },
    {
      "cell_type": "markdown",
      "metadata": {
        "id": "stKoA_gXLttP"
      },
      "source": [
        "The ACM model suggests that the return generating process for log excess holding period follows the flowing dynamic:\n",
        "\n",
        "$$\n",
        "\\begin{equation}\n",
        "rx = \\beta'(\\lambda_0 i'_T + \\lambda_1X\\_) - \\frac{1}{2}(B^*vec(\\Sigma) + \\sigma^2 i_N)i'_T + \\beta'V + E  \n",
        "\\tag{*}\n",
        "\\end{equation}$$\n",
        "\n",
        "Dimensions:\n",
        "\n",
        "$$\n",
        "rx: N \\times T\\\\\n",
        "\\beta: K \\times N\\\\\n",
        "i_T: T \\times 1\\\\\n",
        "i_N: N \\times 1\\\\\n",
        "X\\_: K \\times T\\\\\n",
        "B^*: N \\times K ^2\\\\\n",
        "V: K \\times T\\\\\n",
        "E: N \\times T\n",
        "$$"
      ]
    },
    {
      "cell_type": "markdown",
      "metadata": {
        "id": "yMSFu1XxA62Z"
      },
      "source": [
        "## STEP 1"
      ]
    },
    {
      "attachments": {},
      "cell_type": "markdown",
      "metadata": {
        "id": "vf73GyfFss6F"
      },
      "source": [
        "ACM model assumes that the dynamics of a $K \\times 1$ vector of factors $X_t$ evolve according to the following vector autoregression:\n",
        "\n",
        "$$ X_{t+1} = \\mu + \\Phi X_t + v_{t+1}$$\n",
        "\n",
        "Dimensions of the values(per a specific t):\n",
        "$$\n",
        "X_{t+1}: K \\times 1\\\\\n",
        "X_{t}: K \\times 1\\\\\n",
        "\\mu : K \\times 1\\\\\n",
        "\\Phi : K \\times K\\\\\n",
        "v_{t+1} : K \\times 1\n",
        "$$\n",
        "\n",
        "Dimensions of the values:\n",
        "\n",
        "$$ X_{lhs}: K \\times T\\\\\n",
        "X_{rhs}: （K + 1）\\times T\\\\\n",
        "\\mu : K \\times T\\\\\n",
        "\\Phi : K \\times K\\\\\n",
        "V : K \\times T\n",
        "$$\n",
        "\n",
        "As per code in 'Data Parsing':\n",
        " $$T = 742\\\\\n",
        " K = 5$$"
      ]
    },
    {
      "cell_type": "code",
      "execution_count": 1512,
      "metadata": {
        "id": "Gp-HHGKhA9T6"
      },
      "outputs": [],
      "source": [
        "X_lhs = X[:, 1:]  #X_t+1. Left hand side of VAR. # X_lhs: K * T \n",
        "X_rhs = np.vstack((np.ones((1, t)), X[:, 0:-1])) #X_t and a constant. # X_rhs: K * T \n",
        "var_coeffs = (X_lhs @ np.linalg.pinv(X_rhs)) \n",
        "# please note that np.linalg.pinv(X) returns the pseudo inverse of X\n",
        "# when X is row full rank, the pseudo inverse is equal to X'(XX')^(-1)\n",
        "mu = var_coeffs[:, [0]] # K * 1\n",
        "phi = var_coeffs[:, 1:] # K * K \n",
        "v = X_lhs - var_coeffs @ X_rhs # K * T "
      ]
    },
    {
      "cell_type": "code",
      "execution_count": null,
      "metadata": {},
      "outputs": [],
      "source": []
    },
    {
      "cell_type": "code",
      "execution_count": 1513,
      "metadata": {},
      "outputs": [],
      "source": [
        "# substitute \n"
      ]
    },
    {
      "cell_type": "code",
      "execution_count": 1514,
      "metadata": {},
      "outputs": [
        {
          "data": {
            "text/html": [
              "<div>\n",
              "<style scoped>\n",
              "    .dataframe tbody tr th:only-of-type {\n",
              "        vertical-align: middle;\n",
              "    }\n",
              "\n",
              "    .dataframe tbody tr th {\n",
              "        vertical-align: top;\n",
              "    }\n",
              "\n",
              "    .dataframe thead th {\n",
              "        text-align: right;\n",
              "    }\n",
              "</style>\n",
              "<table border=\"1\" class=\"dataframe\">\n",
              "  <thead>\n",
              "    <tr style=\"text-align: right;\">\n",
              "      <th></th>\n",
              "      <th>0</th>\n",
              "      <th>1</th>\n",
              "      <th>2</th>\n",
              "      <th>3</th>\n",
              "      <th>4</th>\n",
              "      <th>5</th>\n",
              "      <th>6</th>\n",
              "      <th>7</th>\n",
              "      <th>8</th>\n",
              "      <th>9</th>\n",
              "      <th>...</th>\n",
              "      <th>732</th>\n",
              "      <th>733</th>\n",
              "      <th>734</th>\n",
              "      <th>735</th>\n",
              "      <th>736</th>\n",
              "      <th>737</th>\n",
              "      <th>738</th>\n",
              "      <th>739</th>\n",
              "      <th>740</th>\n",
              "      <th>741</th>\n",
              "    </tr>\n",
              "  </thead>\n",
              "  <tbody>\n",
              "    <tr>\n",
              "      <th>0</th>\n",
              "      <td>0.593167</td>\n",
              "      <td>0.555737</td>\n",
              "      <td>0.598744</td>\n",
              "      <td>0.606917</td>\n",
              "      <td>0.589888</td>\n",
              "      <td>0.570925</td>\n",
              "      <td>0.538187</td>\n",
              "      <td>0.599443</td>\n",
              "      <td>0.633146</td>\n",
              "      <td>0.640406</td>\n",
              "      <td>...</td>\n",
              "      <td>0.874711</td>\n",
              "      <td>0.696869</td>\n",
              "      <td>0.453436</td>\n",
              "      <td>0.369833</td>\n",
              "      <td>0.477872</td>\n",
              "      <td>0.431738</td>\n",
              "      <td>0.532706</td>\n",
              "      <td>0.379688</td>\n",
              "      <td>0.541592</td>\n",
              "      <td>0.571883</td>\n",
              "    </tr>\n",
              "    <tr>\n",
              "      <th>1</th>\n",
              "      <td>0.049919</td>\n",
              "      <td>-0.156347</td>\n",
              "      <td>-0.207748</td>\n",
              "      <td>-0.154738</td>\n",
              "      <td>-0.265540</td>\n",
              "      <td>-0.404608</td>\n",
              "      <td>-0.269716</td>\n",
              "      <td>-0.374256</td>\n",
              "      <td>-0.256334</td>\n",
              "      <td>-0.372468</td>\n",
              "      <td>...</td>\n",
              "      <td>-1.469086</td>\n",
              "      <td>-1.325595</td>\n",
              "      <td>-1.349326</td>\n",
              "      <td>-1.380914</td>\n",
              "      <td>-2.044984</td>\n",
              "      <td>-1.889099</td>\n",
              "      <td>-2.253075</td>\n",
              "      <td>-1.870194</td>\n",
              "      <td>-2.133797</td>\n",
              "      <td>-2.227149</td>\n",
              "    </tr>\n",
              "    <tr>\n",
              "      <th>2</th>\n",
              "      <td>1.069951</td>\n",
              "      <td>0.801900</td>\n",
              "      <td>1.104938</td>\n",
              "      <td>0.918496</td>\n",
              "      <td>0.876462</td>\n",
              "      <td>0.989880</td>\n",
              "      <td>1.262794</td>\n",
              "      <td>0.870626</td>\n",
              "      <td>0.694197</td>\n",
              "      <td>1.063968</td>\n",
              "      <td>...</td>\n",
              "      <td>0.909252</td>\n",
              "      <td>1.189609</td>\n",
              "      <td>1.265463</td>\n",
              "      <td>0.997635</td>\n",
              "      <td>0.435381</td>\n",
              "      <td>0.408292</td>\n",
              "      <td>0.095669</td>\n",
              "      <td>1.541035</td>\n",
              "      <td>-0.104986</td>\n",
              "      <td>-0.181220</td>\n",
              "    </tr>\n",
              "    <tr>\n",
              "      <th>3</th>\n",
              "      <td>-1.150391</td>\n",
              "      <td>-1.192269</td>\n",
              "      <td>-1.112915</td>\n",
              "      <td>-0.897556</td>\n",
              "      <td>-1.027808</td>\n",
              "      <td>-1.200439</td>\n",
              "      <td>-1.174431</td>\n",
              "      <td>-0.783352</td>\n",
              "      <td>-0.635628</td>\n",
              "      <td>-0.927919</td>\n",
              "      <td>...</td>\n",
              "      <td>-0.388100</td>\n",
              "      <td>-0.794906</td>\n",
              "      <td>-0.785783</td>\n",
              "      <td>-0.043895</td>\n",
              "      <td>0.216858</td>\n",
              "      <td>0.191303</td>\n",
              "      <td>0.673046</td>\n",
              "      <td>0.630857</td>\n",
              "      <td>0.706321</td>\n",
              "      <td>0.835226</td>\n",
              "    </tr>\n",
              "    <tr>\n",
              "      <th>4</th>\n",
              "      <td>0.480257</td>\n",
              "      <td>0.810790</td>\n",
              "      <td>0.334387</td>\n",
              "      <td>0.485260</td>\n",
              "      <td>1.336875</td>\n",
              "      <td>1.692814</td>\n",
              "      <td>0.253659</td>\n",
              "      <td>0.444046</td>\n",
              "      <td>0.503653</td>\n",
              "      <td>0.285394</td>\n",
              "      <td>...</td>\n",
              "      <td>-0.286275</td>\n",
              "      <td>-0.087612</td>\n",
              "      <td>-0.415590</td>\n",
              "      <td>-0.925573</td>\n",
              "      <td>-0.302616</td>\n",
              "      <td>-0.235139</td>\n",
              "      <td>-0.380314</td>\n",
              "      <td>-2.335659</td>\n",
              "      <td>0.176232</td>\n",
              "      <td>0.115111</td>\n",
              "    </tr>\n",
              "  </tbody>\n",
              "</table>\n",
              "<p>5 rows × 742 columns</p>\n",
              "</div>"
            ],
            "text/plain": [
              "        0         1         2         3         4         5         6    \\\n",
              "0  0.593167  0.555737  0.598744  0.606917  0.589888  0.570925  0.538187   \n",
              "1  0.049919 -0.156347 -0.207748 -0.154738 -0.265540 -0.404608 -0.269716   \n",
              "2  1.069951  0.801900  1.104938  0.918496  0.876462  0.989880  1.262794   \n",
              "3 -1.150391 -1.192269 -1.112915 -0.897556 -1.027808 -1.200439 -1.174431   \n",
              "4  0.480257  0.810790  0.334387  0.485260  1.336875  1.692814  0.253659   \n",
              "\n",
              "        7         8         9    ...       732       733       734       735  \\\n",
              "0  0.599443  0.633146  0.640406  ...  0.874711  0.696869  0.453436  0.369833   \n",
              "1 -0.374256 -0.256334 -0.372468  ... -1.469086 -1.325595 -1.349326 -1.380914   \n",
              "2  0.870626  0.694197  1.063968  ...  0.909252  1.189609  1.265463  0.997635   \n",
              "3 -0.783352 -0.635628 -0.927919  ... -0.388100 -0.794906 -0.785783 -0.043895   \n",
              "4  0.444046  0.503653  0.285394  ... -0.286275 -0.087612 -0.415590 -0.925573   \n",
              "\n",
              "        736       737       738       739       740       741  \n",
              "0  0.477872  0.431738  0.532706  0.379688  0.541592  0.571883  \n",
              "1 -2.044984 -1.889099 -2.253075 -1.870194 -2.133797 -2.227149  \n",
              "2  0.435381  0.408292  0.095669  1.541035 -0.104986 -0.181220  \n",
              "3  0.216858  0.191303  0.673046  0.630857  0.706321  0.835226  \n",
              "4 -0.302616 -0.235139 -0.380314 -2.335659  0.176232  0.115111  \n",
              "\n",
              "[5 rows x 742 columns]"
            ]
          },
          "execution_count": 1514,
          "metadata": {},
          "output_type": "execute_result"
        }
      ],
      "source": [
        "pd.DataFrame(X_lhs)"
      ]
    },
    {
      "cell_type": "markdown",
      "metadata": {
        "id": "M6wsh_2kyzWi"
      },
      "source": [
        "ACM model assumes that the shocks $v_{t+1}$ conditionally follow a Gaussian distribution with variance-covariance matrix $\\Sigma$:\n",
        "\n",
        "$$ v_{t+1} | \\{X_s\\}^t_{s=0}\\sim N(0, \\Sigma) $$\n",
        "\n",
        "ACM model stack $V_{t+1}$ into $\\hat V$ and uses an estimator of the state\n",
        "variable variance-covariance matrix as:\n",
        "\n",
        "$$\\hat\\Sigma = \\frac{\\hat V \\hat V'}{T} $$\n",
        "\n",
        "Dimensions:\n",
        "\n",
        "$$\\hat \\Sigma: K \\times K\\\\\n",
        " $$"
      ]
    },
    {
      "cell_type": "code",
      "execution_count": 1515,
      "metadata": {
        "id": "xBClV5Wjyu-c"
      },
      "outputs": [],
      "source": [
        "Sigma = v @ v.T / t"
      ]
    },
    {
      "cell_type": "markdown",
      "metadata": {
        "id": "SZuAlw7nBDA1"
      },
      "source": [
        "## STEP 2"
      ]
    },
    {
      "cell_type": "markdown",
      "metadata": {
        "id": "2kUJEVBn12z-"
      },
      "source": [
        "The second step of estimation regress excess returns on a constant, lagged pricing factors and contemporaneous\n",
        "pricing factor innovations according to:\n",
        "\n",
        "$$ rx = ai_T^{'} + \\beta^{'} \\hat V + cX_{-} + E$$\n",
        "\n",
        "Dimensions:\n",
        "\n",
        "$$rx: N\\times T\\\\\n",
        "i'_T: 1 \\times T\\\\\n",
        "\\hat V: K \\times T\\\\\n",
        "X\\_: K \\times T\\\\\n",
        "E: N \\times T\\\\\n",
        "a: N \\times 1\\\\\n",
        "\\beta': N \\times K\\\\\n",
        "c: N \\times K\\\\\n",
        "$$\n",
        "\n",
        "We Collect the regressors into the $(2K + 1) \\times T$ matrix $\\tilde{Z} =[i'_T, \\hat V, X\\_ ]$ \n",
        "\n",
        "The original equation becomes；\n",
        "\n",
        "$$rx = [\\tilde{a}, \\tilde{\\beta}', \\tilde{c}] \\tilde{Z} + E$$\n",
        "\n",
        "Dimensions:\n",
        "\n",
        "$$\n",
        "rx: N \\times T\\\\\n",
        "[\\tilde{a}, \\tilde{\\beta}', \\tilde{c}]: N \\times (2K + 1)\\\\ \n",
        "\\tilde{Z}: (2K + 1) \\times T \\\\\n",
        "E: N \\times T\n",
        "$$\n",
        "\n",
        "our estimators become:\n",
        "\n",
        "$$[\\tilde{a}, \\tilde{\\beta}', \\tilde{c}] = rx \\tilde{Z}' (\\tilde{Z} \\tilde{Z}')^{-1}$$\n",
        "\n",
        "In our case \n",
        "$$N = 8\\\\\n",
        "T = 742\\\\\n",
        "K = 5$$\n",
        "\n",
        "in the code we denote $[\\tilde{a}, \\tilde{\\beta}', \\tilde{c}]$  as $abc$ "
      ]
    },
    {
      "cell_type": "code",
      "execution_count": 1516,
      "metadata": {
        "id": "sQcvc4CvBEjL"
      },
      "outputs": [],
      "source": [
        "# Use excess returns at these maturities to estimate the model.\n",
        "rx_maturities = (6, 18, 24, 36, 48, 60, 84, 120) # 0.5y 1.5y 2y 3y 4y 5y 7y 10y\n",
        "\n",
        "selected_rx = rx[:, [x - 2 for x in rx_maturities]].T  # Offset by 2 since index 0 is excess return on a 2m bond\n",
        "N = selected_rx.shape[0]\n",
        "Z = np.vstack((np.ones((1, t)), v, X[:, 0:-1]))  #Innovations and lagged X\n",
        "abc = selected_rx @ np.linalg.pinv(Z)\n",
        "\n",
        "a = abc[:, [0]]\n",
        "beta = abc[:, 1:K+1].T\n",
        "c = abc[:, K+1:]"
      ]
    },
    {
      "cell_type": "markdown",
      "metadata": {
        "id": "XAySNpDtJNzS"
      },
      "source": [
        "We collect the residuals from this regression into the N × T matrix $\\hat E$. \n",
        "\n",
        "We then estimate $\\hat \\sigma ^2 = \\frac{trace(\\hat E \\hat E')}{NT} $\n",
        "\n"
      ]
    },
    {
      "cell_type": "code",
      "execution_count": 1517,
      "metadata": {
        "colab": {
          "base_uri": "https://localhost:8080/"
        },
        "id": "tr5gZVZUJSMa",
        "outputId": "fc4d6416-ee0c-49b5-f40b-3e83eb01d38b"
      },
      "outputs": [
        {
          "data": {
            "text/plain": [
              "0.0030268811898770684"
            ]
          },
          "execution_count": 1517,
          "metadata": {},
          "output_type": "execute_result"
        }
      ],
      "source": [
        "E = selected_rx - abc @ Z\n",
        "sigmasq_ret = np.sum(E * E) / E.size\n",
        "sigmasq_ret"
      ]
    },
    {
      "cell_type": "markdown",
      "metadata": {
        "id": "HI9fAu9sVHr9"
      },
      "source": [
        "We construct $B^*$ from $\\hat \\beta$:"
      ]
    },
    {
      "cell_type": "code",
      "execution_count": 1518,
      "metadata": {
        "id": "PfGyrTKrVG7y"
      },
      "outputs": [],
      "source": [
        "BStar = np.squeeze(np.apply_along_axis(vec_quad_form, 1, beta.T))"
      ]
    },
    {
      "cell_type": "markdown",
      "metadata": {
        "id": "DhfzIX5IBOZM"
      },
      "source": [
        "## STEP 3"
      ]
    },
    {
      "attachments": {},
      "cell_type": "markdown",
      "metadata": {
        "id": "685tENI8JBty"
      },
      "source": [
        "We estimate the price of risk parameters $\\lambda_0$ and $\\lambda_1$ via \n",
        "cross-sectional regression. We know from formula $(*)$ that \n",
        "\n",
        "$$a = \\beta'\\lambda_0 - \\frac{1}{2}(B^*vec(\\Sigma) + \\sigma^2 i_N)$$\n",
        "\n",
        "and $$c = \\beta'\\lambda_1$$\n",
        "\n",
        "We use these expressions to obtain the following estimators for $\\lambda_0$ and $\\lambda_1$:\n",
        "$$\n",
        "\\hat \\lambda_0 = (\\hat \\beta \\hat \\beta')^{-1} \\hat \\beta(\\hat a + \\frac{1}{2}(\\hat B ^* vec(\\Sigma) + \\hat \\sigma ^2 i_N))\n",
        "$$\n",
        "\n",
        "and \n",
        "\n",
        "$$\\hat \\lambda_1 = (\\hat \\beta \\hat \\beta')^{-1} \\hat \\beta \\hat c$$\n",
        "\n",
        "Dimensions:\n",
        "\n",
        "$$ B^*: N \\times K^2\\\\\n",
        "vec(\\Sigma): K^2 \\times 1\\\\\n",
        "i_N: N \\times 1\\\\\n",
        "\\hat \\lambda_1: K \\times K\\\\\n",
        "\\hat \\lambda_0: K \\times 1\\\\\n",
        "\\hat c: N \\times K\\\\\n",
        "\\hat \\beta: K \\times N\\\\\n",
        "\\hat a: N \\times 1\\\\\n",
        "$$\n",
        "We code the cross-sectional regressions as follows:"
      ]
    },
    {
      "cell_type": "code",
      "execution_count": 1519,
      "metadata": {
        "id": "WhUce0ZuBNK2"
      },
      "outputs": [],
      "source": [
        "lambda1 = np.linalg.pinv(beta.T) @ c\n",
        "lambda0 = np.linalg.pinv(beta.T) @ (a + 1/2 * (BStar @ vec(Sigma) + sigmasq_ret))"
      ]
    },
    {
      "cell_type": "markdown",
      "metadata": {
        "id": "Plo0x4JXBeex"
      },
      "source": [
        "# Run Bond Price Recursions"
      ]
    },
    {
      "cell_type": "markdown",
      "metadata": {
        "id": "mfFVOoBogmCI"
      },
      "source": [
        "###### WHAT IS DELTA ??? "
      ]
    },
    {
      "cell_type": "code",
      "execution_count": 1520,
      "metadata": {
        "id": "AcoYEvlMBkCR"
      },
      "outputs": [],
      "source": [
        "# Run bond pricing recursions\n",
        "A = np.zeros((1, n_maturities))\n",
        "B = np.zeros((K, n_maturities))\n",
        "\n",
        "delta = rf.T @ np.linalg.pinv(np.vstack((np.ones((1, t)), X[:, 0:-1])))\n",
        "\n",
        "delta0 = delta[[0], [0]]\n",
        "\n",
        "delta1 = delta[[0], 1:]"
      ]
    },
    {
      "cell_type": "code",
      "execution_count": 1521,
      "metadata": {},
      "outputs": [
        {
          "data": {
            "text/plain": [
              "array([[ 0.39020613, -0.2556206 , -0.0971139 , -0.09068481, -0.04052279,\n",
              "        -0.00768326]])"
            ]
          },
          "execution_count": 1521,
          "metadata": {},
          "output_type": "execute_result"
        }
      ],
      "source": [
        "delta"
      ]
    },
    {
      "cell_type": "markdown",
      "metadata": {
        "id": "_rQgfJTYNZpw"
      },
      "source": [
        "here is an illistration of what vstack does:\n",
        "a = np.array([[1], [2], [3]])\n",
        "\n",
        "b = np.array([[4], [5], [6]])\n",
        "\n",
        "np.vstack((a,b))\n",
        "\n",
        "array(\n",
        "  [[1],\n",
        "\n",
        "  [2],\n",
        "\n",
        "  [3],\n",
        "\n",
        "  [4],\n",
        "\n",
        "  [5],\n",
        "  \n",
        "  [6]])"
      ]
    },
    {
      "cell_type": "code",
      "execution_count": 1522,
      "metadata": {
        "colab": {
          "base_uri": "https://localhost:8080/"
        },
        "id": "vdgCGn1BnYXr",
        "outputId": "c376d0e9-4008-48b1-b1eb-7e704c1df6fe"
      },
      "outputs": [
        {
          "data": {
            "text/plain": [
              "array([[ 0.39020613, -0.2556206 , -0.0971139 , -0.09068481, -0.04052279,\n",
              "        -0.00768326]])"
            ]
          },
          "execution_count": 1522,
          "metadata": {},
          "output_type": "execute_result"
        }
      ],
      "source": [
        "delta"
      ]
    },
    {
      "cell_type": "code",
      "execution_count": 1523,
      "metadata": {
        "colab": {
          "base_uri": "https://localhost:8080/"
        },
        "id": "k3DzMY9FnbfF",
        "outputId": "89e3a60d-3d4d-4047-d155-24a7f227f640"
      },
      "outputs": [
        {
          "data": {
            "text/plain": [
              "array([[-0.2556206 , -0.0971139 , -0.09068481, -0.04052279, -0.00768326]])"
            ]
          },
          "execution_count": 1523,
          "metadata": {},
          "output_type": "execute_result"
        }
      ],
      "source": [
        "delta1"
      ]
    },
    {
      "cell_type": "code",
      "execution_count": 1524,
      "metadata": {
        "id": "ZwfmSCHBnmZm"
      },
      "outputs": [],
      "source": [
        "A[0, 0] = 1/2 * sigmasq_ret - 1.0 * delta0\n",
        "B[:, 0] = - delta1"
      ]
    },
    {
      "cell_type": "code",
      "execution_count": 1525,
      "metadata": {
        "colab": {
          "base_uri": "https://localhost:8080/",
          "height": 235
        },
        "id": "xwvT6YOrnniu",
        "outputId": "09551ddf-7864-4fc8-f45d-6769817cada9"
      },
      "outputs": [
        {
          "data": {
            "text/html": [
              "<div>\n",
              "<style scoped>\n",
              "    .dataframe tbody tr th:only-of-type {\n",
              "        vertical-align: middle;\n",
              "    }\n",
              "\n",
              "    .dataframe tbody tr th {\n",
              "        vertical-align: top;\n",
              "    }\n",
              "\n",
              "    .dataframe thead th {\n",
              "        text-align: right;\n",
              "    }\n",
              "</style>\n",
              "<table border=\"1\" class=\"dataframe\">\n",
              "  <thead>\n",
              "    <tr style=\"text-align: right;\">\n",
              "      <th></th>\n",
              "      <th>0</th>\n",
              "      <th>1</th>\n",
              "      <th>2</th>\n",
              "      <th>3</th>\n",
              "      <th>4</th>\n",
              "      <th>5</th>\n",
              "      <th>6</th>\n",
              "      <th>7</th>\n",
              "      <th>8</th>\n",
              "      <th>9</th>\n",
              "      <th>...</th>\n",
              "      <th>110</th>\n",
              "      <th>111</th>\n",
              "      <th>112</th>\n",
              "      <th>113</th>\n",
              "      <th>114</th>\n",
              "      <th>115</th>\n",
              "      <th>116</th>\n",
              "      <th>117</th>\n",
              "      <th>118</th>\n",
              "      <th>119</th>\n",
              "    </tr>\n",
              "  </thead>\n",
              "  <tbody>\n",
              "    <tr>\n",
              "      <th>0</th>\n",
              "      <td>-0.388693</td>\n",
              "      <td>0.0</td>\n",
              "      <td>0.0</td>\n",
              "      <td>0.0</td>\n",
              "      <td>0.0</td>\n",
              "      <td>0.0</td>\n",
              "      <td>0.0</td>\n",
              "      <td>0.0</td>\n",
              "      <td>0.0</td>\n",
              "      <td>0.0</td>\n",
              "      <td>...</td>\n",
              "      <td>0.0</td>\n",
              "      <td>0.0</td>\n",
              "      <td>0.0</td>\n",
              "      <td>0.0</td>\n",
              "      <td>0.0</td>\n",
              "      <td>0.0</td>\n",
              "      <td>0.0</td>\n",
              "      <td>0.0</td>\n",
              "      <td>0.0</td>\n",
              "      <td>0.0</td>\n",
              "    </tr>\n",
              "  </tbody>\n",
              "</table>\n",
              "<p>1 rows × 120 columns</p>\n",
              "</div>"
            ],
            "text/plain": [
              "        0    1    2    3    4    5    6    7    8    9    ...  110  111  112  \\\n",
              "0 -0.388693  0.0  0.0  0.0  0.0  0.0  0.0  0.0  0.0  0.0  ...  0.0  0.0  0.0   \n",
              "\n",
              "   113  114  115  116  117  118  119  \n",
              "0  0.0  0.0  0.0  0.0  0.0  0.0  0.0  \n",
              "\n",
              "[1 rows x 120 columns]"
            ]
          },
          "execution_count": 1525,
          "metadata": {},
          "output_type": "execute_result"
        }
      ],
      "source": [
        "pd.DataFrame(A)"
      ]
    },
    {
      "cell_type": "code",
      "execution_count": 1526,
      "metadata": {},
      "outputs": [
        {
          "name": "stdout",
          "output_type": "stream",
          "text": [
            "[-1.47178266+0.j          0.99929254+0.j          0.97728715+0.j\n",
            "  0.91376705+0.02828364j  0.91376705-0.02828364j]\n",
            "[[ 1.00053382 -0.01292132 -0.016751   -0.0096282  -0.00184858]\n",
            " [ 0.03809829  0.92193478 -0.2530044  -0.16435642 -0.04250691]\n",
            " [ 0.12164022 -0.25125416 -0.19659756 -1.01808352 -0.30298607]\n",
            " [ 0.03159999 -0.16419931 -0.72955511  0.28497993 -0.29194238]\n",
            " [ 0.00944362 -0.08708899 -0.31410707 -0.27951839  0.79326282]]\n"
          ]
        }
      ],
      "source": [
        "w, v = np.linalg.eig(phi-lambda1)\n",
        "print(w)\n",
        "# w /= np.abs(w[0])\n",
        "w[0] = -1\n",
        "# w[1:] /= 1.1\n",
        "pml = (v @ np.diag(w) @ np.linalg.pinv(v)).real\n",
        "print(pml)"
      ]
    },
    {
      "cell_type": "code",
      "execution_count": 1528,
      "metadata": {
        "id": "qg-mLh4nnXH-"
      },
      "outputs": [],
      "source": [
        "for i in range(0, n_maturities - 1):\n",
        "    A[0, i+1] = A[0, i] + B[:, i].T @ (mu - lambda0) + 0.5 * (B[:, i].T @ Sigma @ B[:, i] + 1 * sigmasq_ret) - 1.*delta0\n",
        "    # B[:, i+1] =  (phi - lambda1).T @ B[:, i] - delta1\n",
        "    B[:, i+1] =  (pml).T @ B[:, i] - 1*delta1"
      ]
    },
    {
      "cell_type": "code",
      "execution_count": 1527,
      "metadata": {},
      "outputs": [],
      "source": [
        "# print(mu-lambda0)\n",
        "# w,v = np.linalg.eig(Sigma)\n",
        "# Sigma = v @ np.diag(np.sqrt(w))"
      ]
    },
    {
      "attachments": {},
      "cell_type": "markdown",
      "metadata": {},
      "source": [
        "the plot trials have revealed that delta0 and delta1 is correct"
      ]
    },
    {
      "cell_type": "code",
      "execution_count": 1529,
      "metadata": {
        "colab": {
          "base_uri": "https://localhost:8080/",
          "height": 299
        },
        "id": "nheJOc7bhP7q",
        "outputId": "6cb1c5de-c6d7-462c-8f5f-e9f120bf881f"
      },
      "outputs": [
        {
          "data": {
            "text/html": [
              "<div>\n",
              "<style scoped>\n",
              "    .dataframe tbody tr th:only-of-type {\n",
              "        vertical-align: middle;\n",
              "    }\n",
              "\n",
              "    .dataframe tbody tr th {\n",
              "        vertical-align: top;\n",
              "    }\n",
              "\n",
              "    .dataframe thead th {\n",
              "        text-align: right;\n",
              "    }\n",
              "</style>\n",
              "<table border=\"1\" class=\"dataframe\">\n",
              "  <thead>\n",
              "    <tr style=\"text-align: right;\">\n",
              "      <th></th>\n",
              "      <th>0</th>\n",
              "      <th>1</th>\n",
              "      <th>2</th>\n",
              "      <th>3</th>\n",
              "      <th>4</th>\n",
              "      <th>5</th>\n",
              "      <th>6</th>\n",
              "      <th>7</th>\n",
              "      <th>8</th>\n",
              "      <th>9</th>\n",
              "      <th>...</th>\n",
              "      <th>110</th>\n",
              "      <th>111</th>\n",
              "      <th>112</th>\n",
              "      <th>113</th>\n",
              "      <th>114</th>\n",
              "      <th>115</th>\n",
              "      <th>116</th>\n",
              "      <th>117</th>\n",
              "      <th>118</th>\n",
              "      <th>119</th>\n",
              "    </tr>\n",
              "  </thead>\n",
              "  <tbody>\n",
              "    <tr>\n",
              "      <th>0</th>\n",
              "      <td>0.255621</td>\n",
              "      <td>0.527462</td>\n",
              "      <td>0.788458</td>\n",
              "      <td>1.064754</td>\n",
              "      <td>1.329378</td>\n",
              "      <td>1.608557</td>\n",
              "      <td>1.875400</td>\n",
              "      <td>2.156204</td>\n",
              "      <td>2.424140</td>\n",
              "      <td>2.705566</td>\n",
              "      <td>...</td>\n",
              "      <td>26.413151</td>\n",
              "      <td>26.626831</td>\n",
              "      <td>26.826924</td>\n",
              "      <td>27.040013</td>\n",
              "      <td>27.239523</td>\n",
              "      <td>27.452036</td>\n",
              "      <td>27.650977</td>\n",
              "      <td>27.862927</td>\n",
              "      <td>28.061312</td>\n",
              "      <td>28.272713</td>\n",
              "    </tr>\n",
              "    <tr>\n",
              "      <th>1</th>\n",
              "      <td>0.097114</td>\n",
              "      <td>0.153236</td>\n",
              "      <td>0.241161</td>\n",
              "      <td>0.288129</td>\n",
              "      <td>0.366979</td>\n",
              "      <td>0.404990</td>\n",
              "      <td>0.475034</td>\n",
              "      <td>0.504412</td>\n",
              "      <td>0.566018</td>\n",
              "      <td>0.587170</td>\n",
              "      <td>...</td>\n",
              "      <td>-3.691686</td>\n",
              "      <td>-3.780491</td>\n",
              "      <td>-3.833050</td>\n",
              "      <td>-3.922148</td>\n",
              "      <td>-3.974992</td>\n",
              "      <td>-4.064367</td>\n",
              "      <td>-4.117477</td>\n",
              "      <td>-4.207110</td>\n",
              "      <td>-4.260471</td>\n",
              "      <td>-4.350346</td>\n",
              "    </tr>\n",
              "    <tr>\n",
              "      <th>2</th>\n",
              "      <td>0.090685</td>\n",
              "      <td>0.012027</td>\n",
              "      <td>0.094554</td>\n",
              "      <td>0.008837</td>\n",
              "      <td>0.085299</td>\n",
              "      <td>-0.005586</td>\n",
              "      <td>0.066515</td>\n",
              "      <td>-0.028002</td>\n",
              "      <td>0.041118</td>\n",
              "      <td>-0.055797</td>\n",
              "      <td>...</td>\n",
              "      <td>0.828269</td>\n",
              "      <td>0.770407</td>\n",
              "      <td>0.877637</td>\n",
              "      <td>0.820006</td>\n",
              "      <td>0.927460</td>\n",
              "      <td>0.870048</td>\n",
              "      <td>0.977715</td>\n",
              "      <td>0.920509</td>\n",
              "      <td>1.028378</td>\n",
              "      <td>0.971368</td>\n",
              "    </tr>\n",
              "    <tr>\n",
              "      <th>3</th>\n",
              "      <td>0.040523</td>\n",
              "      <td>-0.060824</td>\n",
              "      <td>-0.010898</td>\n",
              "      <td>-0.103393</td>\n",
              "      <td>-0.045176</td>\n",
              "      <td>-0.129944</td>\n",
              "      <td>-0.064560</td>\n",
              "      <td>-0.142713</td>\n",
              "      <td>-0.071256</td>\n",
              "      <td>-0.143861</td>\n",
              "      <td>...</td>\n",
              "      <td>-0.578519</td>\n",
              "      <td>-0.678393</td>\n",
              "      <td>-0.631759</td>\n",
              "      <td>-0.732025</td>\n",
              "      <td>-0.685773</td>\n",
              "      <td>-0.786412</td>\n",
              "      <td>-0.740523</td>\n",
              "      <td>-0.841516</td>\n",
              "      <td>-0.795971</td>\n",
              "      <td>-0.897299</td>\n",
              "    </tr>\n",
              "    <tr>\n",
              "      <th>4</th>\n",
              "      <td>0.007683</td>\n",
              "      <td>-0.030129</td>\n",
              "      <td>-0.009593</td>\n",
              "      <td>-0.037102</td>\n",
              "      <td>-0.008457</td>\n",
              "      <td>-0.029737</td>\n",
              "      <td>0.003534</td>\n",
              "      <td>-0.014478</td>\n",
              "      <td>0.020920</td>\n",
              "      <td>0.004082</td>\n",
              "      <td>...</td>\n",
              "      <td>0.226259</td>\n",
              "      <td>0.213202</td>\n",
              "      <td>0.252912</td>\n",
              "      <td>0.240174</td>\n",
              "      <td>0.280196</td>\n",
              "      <td>0.267762</td>\n",
              "      <td>0.308080</td>\n",
              "      <td>0.295934</td>\n",
              "      <td>0.336534</td>\n",
              "      <td>0.324662</td>\n",
              "    </tr>\n",
              "  </tbody>\n",
              "</table>\n",
              "<p>5 rows × 120 columns</p>\n",
              "</div>"
            ],
            "text/plain": [
              "        0         1         2         3         4         5         6    \\\n",
              "0  0.255621  0.527462  0.788458  1.064754  1.329378  1.608557  1.875400   \n",
              "1  0.097114  0.153236  0.241161  0.288129  0.366979  0.404990  0.475034   \n",
              "2  0.090685  0.012027  0.094554  0.008837  0.085299 -0.005586  0.066515   \n",
              "3  0.040523 -0.060824 -0.010898 -0.103393 -0.045176 -0.129944 -0.064560   \n",
              "4  0.007683 -0.030129 -0.009593 -0.037102 -0.008457 -0.029737  0.003534   \n",
              "\n",
              "        7         8         9    ...        110        111        112  \\\n",
              "0  2.156204  2.424140  2.705566  ...  26.413151  26.626831  26.826924   \n",
              "1  0.504412  0.566018  0.587170  ...  -3.691686  -3.780491  -3.833050   \n",
              "2 -0.028002  0.041118 -0.055797  ...   0.828269   0.770407   0.877637   \n",
              "3 -0.142713 -0.071256 -0.143861  ...  -0.578519  -0.678393  -0.631759   \n",
              "4 -0.014478  0.020920  0.004082  ...   0.226259   0.213202   0.252912   \n",
              "\n",
              "         113        114        115        116        117        118        119  \n",
              "0  27.040013  27.239523  27.452036  27.650977  27.862927  28.061312  28.272713  \n",
              "1  -3.922148  -3.974992  -4.064367  -4.117477  -4.207110  -4.260471  -4.350346  \n",
              "2   0.820006   0.927460   0.870048   0.977715   0.920509   1.028378   0.971368  \n",
              "3  -0.732025  -0.685773  -0.786412  -0.740523  -0.841516  -0.795971  -0.897299  \n",
              "4   0.240174   0.280196   0.267762   0.308080   0.295934   0.336534   0.324662  \n",
              "\n",
              "[5 rows x 120 columns]"
            ]
          },
          "execution_count": 1529,
          "metadata": {},
          "output_type": "execute_result"
        }
      ],
      "source": [
        "pd.DataFrame(B)"
      ]
    },
    {
      "cell_type": "code",
      "execution_count": 1530,
      "metadata": {},
      "outputs": [
        {
          "data": {
            "text/html": [
              "<div>\n",
              "<style scoped>\n",
              "    .dataframe tbody tr th:only-of-type {\n",
              "        vertical-align: middle;\n",
              "    }\n",
              "\n",
              "    .dataframe tbody tr th {\n",
              "        vertical-align: top;\n",
              "    }\n",
              "\n",
              "    .dataframe thead th {\n",
              "        text-align: right;\n",
              "    }\n",
              "</style>\n",
              "<table border=\"1\" class=\"dataframe\">\n",
              "  <thead>\n",
              "    <tr style=\"text-align: right;\">\n",
              "      <th></th>\n",
              "      <th>0</th>\n",
              "      <th>1</th>\n",
              "      <th>2</th>\n",
              "      <th>3</th>\n",
              "      <th>4</th>\n",
              "      <th>5</th>\n",
              "      <th>6</th>\n",
              "      <th>7</th>\n",
              "      <th>8</th>\n",
              "      <th>9</th>\n",
              "      <th>...</th>\n",
              "      <th>110</th>\n",
              "      <th>111</th>\n",
              "      <th>112</th>\n",
              "      <th>113</th>\n",
              "      <th>114</th>\n",
              "      <th>115</th>\n",
              "      <th>116</th>\n",
              "      <th>117</th>\n",
              "      <th>118</th>\n",
              "      <th>119</th>\n",
              "    </tr>\n",
              "  </thead>\n",
              "  <tbody>\n",
              "    <tr>\n",
              "      <th>0</th>\n",
              "      <td>-0.388693</td>\n",
              "      <td>-1.542119</td>\n",
              "      <td>-1.734236</td>\n",
              "      <td>-2.735311</td>\n",
              "      <td>-2.810088</td>\n",
              "      <td>-3.725382</td>\n",
              "      <td>-3.738984</td>\n",
              "      <td>-4.614737</td>\n",
              "      <td>-4.605361</td>\n",
              "      <td>-5.472241</td>\n",
              "      <td>...</td>\n",
              "      <td>-64.652181</td>\n",
              "      <td>-65.774247</td>\n",
              "      <td>-66.014537</td>\n",
              "      <td>-67.129493</td>\n",
              "      <td>-67.361561</td>\n",
              "      <td>-68.467256</td>\n",
              "      <td>-68.688905</td>\n",
              "      <td>-69.783094</td>\n",
              "      <td>-69.992032</td>\n",
              "      <td>-71.072381</td>\n",
              "    </tr>\n",
              "  </tbody>\n",
              "</table>\n",
              "<p>1 rows × 120 columns</p>\n",
              "</div>"
            ],
            "text/plain": [
              "        0         1         2         3         4         5         6    \\\n",
              "0 -0.388693 -1.542119 -1.734236 -2.735311 -2.810088 -3.725382 -3.738984   \n",
              "\n",
              "        7         8         9    ...        110        111        112  \\\n",
              "0 -4.614737 -4.605361 -5.472241  ... -64.652181 -65.774247 -66.014537   \n",
              "\n",
              "         113        114        115        116        117        118        119  \n",
              "0 -67.129493 -67.361561 -68.467256 -68.688905 -69.783094 -69.992032 -71.072381  \n",
              "\n",
              "[1 rows x 120 columns]"
            ]
          },
          "execution_count": 1530,
          "metadata": {},
          "output_type": "execute_result"
        }
      ],
      "source": [
        "pd.DataFrame(A)"
      ]
    },
    {
      "cell_type": "code",
      "execution_count": 1531,
      "metadata": {},
      "outputs": [
        {
          "data": {
            "text/html": [
              "<div>\n",
              "<style scoped>\n",
              "    .dataframe tbody tr th:only-of-type {\n",
              "        vertical-align: middle;\n",
              "    }\n",
              "\n",
              "    .dataframe tbody tr th {\n",
              "        vertical-align: top;\n",
              "    }\n",
              "\n",
              "    .dataframe thead th {\n",
              "        text-align: right;\n",
              "    }\n",
              "</style>\n",
              "<table border=\"1\" class=\"dataframe\">\n",
              "  <thead>\n",
              "    <tr style=\"text-align: right;\">\n",
              "      <th></th>\n",
              "      <th>0</th>\n",
              "      <th>1</th>\n",
              "      <th>2</th>\n",
              "      <th>3</th>\n",
              "      <th>4</th>\n",
              "      <th>5</th>\n",
              "      <th>6</th>\n",
              "      <th>7</th>\n",
              "      <th>8</th>\n",
              "      <th>9</th>\n",
              "      <th>...</th>\n",
              "      <th>733</th>\n",
              "      <th>734</th>\n",
              "      <th>735</th>\n",
              "      <th>736</th>\n",
              "      <th>737</th>\n",
              "      <th>738</th>\n",
              "      <th>739</th>\n",
              "      <th>740</th>\n",
              "      <th>741</th>\n",
              "      <th>742</th>\n",
              "    </tr>\n",
              "  </thead>\n",
              "  <tbody>\n",
              "    <tr>\n",
              "      <th>0</th>\n",
              "      <td>0.607077</td>\n",
              "      <td>0.593167</td>\n",
              "      <td>0.555737</td>\n",
              "      <td>0.598744</td>\n",
              "      <td>0.606917</td>\n",
              "      <td>0.589888</td>\n",
              "      <td>0.570925</td>\n",
              "      <td>0.538187</td>\n",
              "      <td>0.599443</td>\n",
              "      <td>0.633146</td>\n",
              "      <td>...</td>\n",
              "      <td>0.874711</td>\n",
              "      <td>0.696869</td>\n",
              "      <td>0.453436</td>\n",
              "      <td>0.369833</td>\n",
              "      <td>0.477872</td>\n",
              "      <td>0.431738</td>\n",
              "      <td>0.532706</td>\n",
              "      <td>0.379688</td>\n",
              "      <td>0.541592</td>\n",
              "      <td>0.571883</td>\n",
              "    </tr>\n",
              "    <tr>\n",
              "      <th>1</th>\n",
              "      <td>-0.266645</td>\n",
              "      <td>0.049919</td>\n",
              "      <td>-0.156347</td>\n",
              "      <td>-0.207748</td>\n",
              "      <td>-0.154738</td>\n",
              "      <td>-0.265540</td>\n",
              "      <td>-0.404608</td>\n",
              "      <td>-0.269716</td>\n",
              "      <td>-0.374256</td>\n",
              "      <td>-0.256334</td>\n",
              "      <td>...</td>\n",
              "      <td>-1.469086</td>\n",
              "      <td>-1.325595</td>\n",
              "      <td>-1.349326</td>\n",
              "      <td>-1.380914</td>\n",
              "      <td>-2.044984</td>\n",
              "      <td>-1.889099</td>\n",
              "      <td>-2.253075</td>\n",
              "      <td>-1.870194</td>\n",
              "      <td>-2.133797</td>\n",
              "      <td>-2.227149</td>\n",
              "    </tr>\n",
              "    <tr>\n",
              "      <th>2</th>\n",
              "      <td>0.826767</td>\n",
              "      <td>1.069951</td>\n",
              "      <td>0.801900</td>\n",
              "      <td>1.104938</td>\n",
              "      <td>0.918496</td>\n",
              "      <td>0.876462</td>\n",
              "      <td>0.989880</td>\n",
              "      <td>1.262794</td>\n",
              "      <td>0.870626</td>\n",
              "      <td>0.694197</td>\n",
              "      <td>...</td>\n",
              "      <td>0.909252</td>\n",
              "      <td>1.189609</td>\n",
              "      <td>1.265463</td>\n",
              "      <td>0.997635</td>\n",
              "      <td>0.435381</td>\n",
              "      <td>0.408292</td>\n",
              "      <td>0.095669</td>\n",
              "      <td>1.541035</td>\n",
              "      <td>-0.104986</td>\n",
              "      <td>-0.181220</td>\n",
              "    </tr>\n",
              "    <tr>\n",
              "      <th>3</th>\n",
              "      <td>-1.151464</td>\n",
              "      <td>-1.150391</td>\n",
              "      <td>-1.192269</td>\n",
              "      <td>-1.112915</td>\n",
              "      <td>-0.897556</td>\n",
              "      <td>-1.027808</td>\n",
              "      <td>-1.200439</td>\n",
              "      <td>-1.174431</td>\n",
              "      <td>-0.783352</td>\n",
              "      <td>-0.635628</td>\n",
              "      <td>...</td>\n",
              "      <td>-0.388100</td>\n",
              "      <td>-0.794906</td>\n",
              "      <td>-0.785783</td>\n",
              "      <td>-0.043895</td>\n",
              "      <td>0.216858</td>\n",
              "      <td>0.191303</td>\n",
              "      <td>0.673046</td>\n",
              "      <td>0.630857</td>\n",
              "      <td>0.706321</td>\n",
              "      <td>0.835226</td>\n",
              "    </tr>\n",
              "    <tr>\n",
              "      <th>4</th>\n",
              "      <td>0.748415</td>\n",
              "      <td>0.480257</td>\n",
              "      <td>0.810790</td>\n",
              "      <td>0.334387</td>\n",
              "      <td>0.485260</td>\n",
              "      <td>1.336875</td>\n",
              "      <td>1.692814</td>\n",
              "      <td>0.253659</td>\n",
              "      <td>0.444046</td>\n",
              "      <td>0.503653</td>\n",
              "      <td>...</td>\n",
              "      <td>-0.286275</td>\n",
              "      <td>-0.087612</td>\n",
              "      <td>-0.415590</td>\n",
              "      <td>-0.925573</td>\n",
              "      <td>-0.302616</td>\n",
              "      <td>-0.235139</td>\n",
              "      <td>-0.380314</td>\n",
              "      <td>-2.335659</td>\n",
              "      <td>0.176232</td>\n",
              "      <td>0.115111</td>\n",
              "    </tr>\n",
              "  </tbody>\n",
              "</table>\n",
              "<p>5 rows × 743 columns</p>\n",
              "</div>"
            ],
            "text/plain": [
              "        0         1         2         3         4         5         6    \\\n",
              "0  0.607077  0.593167  0.555737  0.598744  0.606917  0.589888  0.570925   \n",
              "1 -0.266645  0.049919 -0.156347 -0.207748 -0.154738 -0.265540 -0.404608   \n",
              "2  0.826767  1.069951  0.801900  1.104938  0.918496  0.876462  0.989880   \n",
              "3 -1.151464 -1.150391 -1.192269 -1.112915 -0.897556 -1.027808 -1.200439   \n",
              "4  0.748415  0.480257  0.810790  0.334387  0.485260  1.336875  1.692814   \n",
              "\n",
              "        7         8         9    ...       733       734       735       736  \\\n",
              "0  0.538187  0.599443  0.633146  ...  0.874711  0.696869  0.453436  0.369833   \n",
              "1 -0.269716 -0.374256 -0.256334  ... -1.469086 -1.325595 -1.349326 -1.380914   \n",
              "2  1.262794  0.870626  0.694197  ...  0.909252  1.189609  1.265463  0.997635   \n",
              "3 -1.174431 -0.783352 -0.635628  ... -0.388100 -0.794906 -0.785783 -0.043895   \n",
              "4  0.253659  0.444046  0.503653  ... -0.286275 -0.087612 -0.415590 -0.925573   \n",
              "\n",
              "        737       738       739       740       741       742  \n",
              "0  0.477872  0.431738  0.532706  0.379688  0.541592  0.571883  \n",
              "1 -2.044984 -1.889099 -2.253075 -1.870194 -2.133797 -2.227149  \n",
              "2  0.435381  0.408292  0.095669  1.541035 -0.104986 -0.181220  \n",
              "3  0.216858  0.191303  0.673046  0.630857  0.706321  0.835226  \n",
              "4 -0.302616 -0.235139 -0.380314 -2.335659  0.176232  0.115111  \n",
              "\n",
              "[5 rows x 743 columns]"
            ]
          },
          "execution_count": 1531,
          "metadata": {},
          "output_type": "execute_result"
        }
      ],
      "source": [
        "pd.DataFrame(X)"
      ]
    },
    {
      "cell_type": "code",
      "execution_count": 1532,
      "metadata": {},
      "outputs": [
        {
          "data": {
            "text/html": [
              "<div>\n",
              "<style scoped>\n",
              "    .dataframe tbody tr th:only-of-type {\n",
              "        vertical-align: middle;\n",
              "    }\n",
              "\n",
              "    .dataframe tbody tr th {\n",
              "        vertical-align: top;\n",
              "    }\n",
              "\n",
              "    .dataframe thead th {\n",
              "        text-align: right;\n",
              "    }\n",
              "</style>\n",
              "<table border=\"1\" class=\"dataframe\">\n",
              "  <thead>\n",
              "    <tr style=\"text-align: right;\">\n",
              "      <th></th>\n",
              "      <th>0</th>\n",
              "    </tr>\n",
              "  </thead>\n",
              "  <tbody>\n",
              "    <tr>\n",
              "      <th>0</th>\n",
              "      <td>-0.388693</td>\n",
              "    </tr>\n",
              "    <tr>\n",
              "      <th>1</th>\n",
              "      <td>-1.542119</td>\n",
              "    </tr>\n",
              "    <tr>\n",
              "      <th>2</th>\n",
              "      <td>-1.734236</td>\n",
              "    </tr>\n",
              "    <tr>\n",
              "      <th>3</th>\n",
              "      <td>-2.735311</td>\n",
              "    </tr>\n",
              "    <tr>\n",
              "      <th>4</th>\n",
              "      <td>-2.810088</td>\n",
              "    </tr>\n",
              "    <tr>\n",
              "      <th>...</th>\n",
              "      <td>...</td>\n",
              "    </tr>\n",
              "    <tr>\n",
              "      <th>115</th>\n",
              "      <td>-68.467256</td>\n",
              "    </tr>\n",
              "    <tr>\n",
              "      <th>116</th>\n",
              "      <td>-68.688905</td>\n",
              "    </tr>\n",
              "    <tr>\n",
              "      <th>117</th>\n",
              "      <td>-69.783094</td>\n",
              "    </tr>\n",
              "    <tr>\n",
              "      <th>118</th>\n",
              "      <td>-69.992032</td>\n",
              "    </tr>\n",
              "    <tr>\n",
              "      <th>119</th>\n",
              "      <td>-71.072381</td>\n",
              "    </tr>\n",
              "  </tbody>\n",
              "</table>\n",
              "<p>120 rows × 1 columns</p>\n",
              "</div>"
            ],
            "text/plain": [
              "             0\n",
              "0    -0.388693\n",
              "1    -1.542119\n",
              "2    -1.734236\n",
              "3    -2.735311\n",
              "4    -2.810088\n",
              "..         ...\n",
              "115 -68.467256\n",
              "116 -68.688905\n",
              "117 -69.783094\n",
              "118 -69.992032\n",
              "119 -71.072381\n",
              "\n",
              "[120 rows x 1 columns]"
            ]
          },
          "execution_count": 1532,
          "metadata": {},
          "output_type": "execute_result"
        }
      ],
      "source": [
        "pd.DataFrame(A.T)"
      ]
    },
    {
      "cell_type": "code",
      "execution_count": 1533,
      "metadata": {},
      "outputs": [
        {
          "data": {
            "text/html": [
              "<div>\n",
              "<style scoped>\n",
              "    .dataframe tbody tr th:only-of-type {\n",
              "        vertical-align: middle;\n",
              "    }\n",
              "\n",
              "    .dataframe tbody tr th {\n",
              "        vertical-align: top;\n",
              "    }\n",
              "\n",
              "    .dataframe thead th {\n",
              "        text-align: right;\n",
              "    }\n",
              "</style>\n",
              "<table border=\"1\" class=\"dataframe\">\n",
              "  <thead>\n",
              "    <tr style=\"text-align: right;\">\n",
              "      <th></th>\n",
              "      <th>0</th>\n",
              "      <th>1</th>\n",
              "      <th>2</th>\n",
              "      <th>3</th>\n",
              "      <th>4</th>\n",
              "      <th>5</th>\n",
              "      <th>6</th>\n",
              "      <th>7</th>\n",
              "      <th>8</th>\n",
              "      <th>9</th>\n",
              "      <th>...</th>\n",
              "      <th>110</th>\n",
              "      <th>111</th>\n",
              "      <th>112</th>\n",
              "      <th>113</th>\n",
              "      <th>114</th>\n",
              "      <th>115</th>\n",
              "      <th>116</th>\n",
              "      <th>117</th>\n",
              "      <th>118</th>\n",
              "      <th>119</th>\n",
              "    </tr>\n",
              "  </thead>\n",
              "  <tbody>\n",
              "    <tr>\n",
              "      <th>0</th>\n",
              "      <td>12.0</td>\n",
              "      <td>6.0</td>\n",
              "      <td>4.0</td>\n",
              "      <td>3.0</td>\n",
              "      <td>2.4</td>\n",
              "      <td>2.0</td>\n",
              "      <td>1.714286</td>\n",
              "      <td>1.5</td>\n",
              "      <td>1.333333</td>\n",
              "      <td>1.2</td>\n",
              "      <td>...</td>\n",
              "      <td>0.108108</td>\n",
              "      <td>0.107143</td>\n",
              "      <td>0.106195</td>\n",
              "      <td>0.105263</td>\n",
              "      <td>0.104348</td>\n",
              "      <td>0.103448</td>\n",
              "      <td>0.102564</td>\n",
              "      <td>0.101695</td>\n",
              "      <td>0.10084</td>\n",
              "      <td>0.1</td>\n",
              "    </tr>\n",
              "    <tr>\n",
              "      <th>1</th>\n",
              "      <td>12.0</td>\n",
              "      <td>6.0</td>\n",
              "      <td>4.0</td>\n",
              "      <td>3.0</td>\n",
              "      <td>2.4</td>\n",
              "      <td>2.0</td>\n",
              "      <td>1.714286</td>\n",
              "      <td>1.5</td>\n",
              "      <td>1.333333</td>\n",
              "      <td>1.2</td>\n",
              "      <td>...</td>\n",
              "      <td>0.108108</td>\n",
              "      <td>0.107143</td>\n",
              "      <td>0.106195</td>\n",
              "      <td>0.105263</td>\n",
              "      <td>0.104348</td>\n",
              "      <td>0.103448</td>\n",
              "      <td>0.102564</td>\n",
              "      <td>0.101695</td>\n",
              "      <td>0.10084</td>\n",
              "      <td>0.1</td>\n",
              "    </tr>\n",
              "    <tr>\n",
              "      <th>2</th>\n",
              "      <td>12.0</td>\n",
              "      <td>6.0</td>\n",
              "      <td>4.0</td>\n",
              "      <td>3.0</td>\n",
              "      <td>2.4</td>\n",
              "      <td>2.0</td>\n",
              "      <td>1.714286</td>\n",
              "      <td>1.5</td>\n",
              "      <td>1.333333</td>\n",
              "      <td>1.2</td>\n",
              "      <td>...</td>\n",
              "      <td>0.108108</td>\n",
              "      <td>0.107143</td>\n",
              "      <td>0.106195</td>\n",
              "      <td>0.105263</td>\n",
              "      <td>0.104348</td>\n",
              "      <td>0.103448</td>\n",
              "      <td>0.102564</td>\n",
              "      <td>0.101695</td>\n",
              "      <td>0.10084</td>\n",
              "      <td>0.1</td>\n",
              "    </tr>\n",
              "  </tbody>\n",
              "</table>\n",
              "<p>3 rows × 120 columns</p>\n",
              "</div>"
            ],
            "text/plain": [
              "    0    1    2    3    4    5         6    7         8    9    ...       110  \\\n",
              "0  12.0  6.0  4.0  3.0  2.4  2.0  1.714286  1.5  1.333333  1.2  ...  0.108108   \n",
              "1  12.0  6.0  4.0  3.0  2.4  2.0  1.714286  1.5  1.333333  1.2  ...  0.108108   \n",
              "2  12.0  6.0  4.0  3.0  2.4  2.0  1.714286  1.5  1.333333  1.2  ...  0.108108   \n",
              "\n",
              "        111       112       113       114       115       116       117  \\\n",
              "0  0.107143  0.106195  0.105263  0.104348  0.103448  0.102564  0.101695   \n",
              "1  0.107143  0.106195  0.105263  0.104348  0.103448  0.102564  0.101695   \n",
              "2  0.107143  0.106195  0.105263  0.104348  0.103448  0.102564  0.101695   \n",
              "\n",
              "       118  119  \n",
              "0  0.10084  0.1  \n",
              "1  0.10084  0.1  \n",
              "2  0.10084  0.1  \n",
              "\n",
              "[3 rows x 120 columns]"
            ]
          },
          "execution_count": 1533,
          "metadata": {},
          "output_type": "execute_result"
        }
      ],
      "source": [
        "C = np.array([[1] * 120] * 3 )\n",
        "pd.DataFrame(C / ttm)"
      ]
    },
    {
      "cell_type": "code",
      "execution_count": 1534,
      "metadata": {},
      "outputs": [],
      "source": [
        "# Construct fitted yields\n",
        "# fittedLogPrices = (A.T + B.T @ X).T\n",
        "fittedLogPrices = (B.T @ X).T\n",
        "fittedYields = - fittedLogPrices / ttm"
      ]
    },
    {
      "cell_type": "code",
      "execution_count": 1538,
      "metadata": {},
      "outputs": [],
      "source": [
        "fittedYields -= (fittedYields[0,:] - rawYields[0,:])"
      ]
    },
    {
      "cell_type": "code",
      "execution_count": 1539,
      "metadata": {},
      "outputs": [
        {
          "data": {
            "text/html": [
              "<div>\n",
              "<style scoped>\n",
              "    .dataframe tbody tr th:only-of-type {\n",
              "        vertical-align: middle;\n",
              "    }\n",
              "\n",
              "    .dataframe tbody tr th {\n",
              "        vertical-align: top;\n",
              "    }\n",
              "\n",
              "    .dataframe thead th {\n",
              "        text-align: right;\n",
              "    }\n",
              "</style>\n",
              "<table border=\"1\" class=\"dataframe\">\n",
              "  <thead>\n",
              "    <tr style=\"text-align: right;\">\n",
              "      <th></th>\n",
              "      <th>0</th>\n",
              "      <th>1</th>\n",
              "      <th>2</th>\n",
              "      <th>3</th>\n",
              "      <th>4</th>\n",
              "      <th>5</th>\n",
              "      <th>6</th>\n",
              "      <th>7</th>\n",
              "      <th>8</th>\n",
              "      <th>9</th>\n",
              "      <th>...</th>\n",
              "      <th>110</th>\n",
              "      <th>111</th>\n",
              "      <th>112</th>\n",
              "      <th>113</th>\n",
              "      <th>114</th>\n",
              "      <th>115</th>\n",
              "      <th>116</th>\n",
              "      <th>117</th>\n",
              "      <th>118</th>\n",
              "      <th>119</th>\n",
              "    </tr>\n",
              "  </thead>\n",
              "  <tbody>\n",
              "    <tr>\n",
              "      <th>0</th>\n",
              "      <td>0.083333</td>\n",
              "      <td>0.166667</td>\n",
              "      <td>0.25</td>\n",
              "      <td>0.333333</td>\n",
              "      <td>0.416667</td>\n",
              "      <td>0.5</td>\n",
              "      <td>0.583333</td>\n",
              "      <td>0.666667</td>\n",
              "      <td>0.75</td>\n",
              "      <td>0.833333</td>\n",
              "      <td>...</td>\n",
              "      <td>9.25</td>\n",
              "      <td>9.333333</td>\n",
              "      <td>9.416667</td>\n",
              "      <td>9.5</td>\n",
              "      <td>9.583333</td>\n",
              "      <td>9.666667</td>\n",
              "      <td>9.75</td>\n",
              "      <td>9.833333</td>\n",
              "      <td>9.916667</td>\n",
              "      <td>10.0</td>\n",
              "    </tr>\n",
              "  </tbody>\n",
              "</table>\n",
              "<p>1 rows × 120 columns</p>\n",
              "</div>"
            ],
            "text/plain": [
              "        0         1     2         3         4    5         6         7    \\\n",
              "0  0.083333  0.166667  0.25  0.333333  0.416667  0.5  0.583333  0.666667   \n",
              "\n",
              "    8         9    ...   110       111       112  113       114       115  \\\n",
              "0  0.75  0.833333  ...  9.25  9.333333  9.416667  9.5  9.583333  9.666667   \n",
              "\n",
              "    116       117       118   119  \n",
              "0  9.75  9.833333  9.916667  10.0  \n",
              "\n",
              "[1 rows x 120 columns]"
            ]
          },
          "execution_count": 1539,
          "metadata": {},
          "output_type": "execute_result"
        }
      ],
      "source": [
        "pd.DataFrame(ttm)"
      ]
    },
    {
      "cell_type": "code",
      "execution_count": 1540,
      "metadata": {},
      "outputs": [
        {
          "data": {
            "text/html": [
              "<div>\n",
              "<style scoped>\n",
              "    .dataframe tbody tr th:only-of-type {\n",
              "        vertical-align: middle;\n",
              "    }\n",
              "\n",
              "    .dataframe tbody tr th {\n",
              "        vertical-align: top;\n",
              "    }\n",
              "\n",
              "    .dataframe thead th {\n",
              "        text-align: right;\n",
              "    }\n",
              "</style>\n",
              "<table border=\"1\" class=\"dataframe\">\n",
              "  <thead>\n",
              "    <tr style=\"text-align: right;\">\n",
              "      <th></th>\n",
              "      <th>0</th>\n",
              "      <th>1</th>\n",
              "      <th>2</th>\n",
              "      <th>3</th>\n",
              "      <th>4</th>\n",
              "      <th>5</th>\n",
              "      <th>6</th>\n",
              "      <th>7</th>\n",
              "      <th>8</th>\n",
              "      <th>9</th>\n",
              "      <th>...</th>\n",
              "      <th>110</th>\n",
              "      <th>111</th>\n",
              "      <th>112</th>\n",
              "      <th>113</th>\n",
              "      <th>114</th>\n",
              "      <th>115</th>\n",
              "      <th>116</th>\n",
              "      <th>117</th>\n",
              "      <th>118</th>\n",
              "      <th>119</th>\n",
              "    </tr>\n",
              "  </thead>\n",
              "  <tbody>\n",
              "    <tr>\n",
              "      <th>0</th>\n",
              "      <td>0.163351</td>\n",
              "      <td>0.336782</td>\n",
              "      <td>0.497893</td>\n",
              "      <td>0.668152</td>\n",
              "      <td>0.825393</td>\n",
              "      <td>0.991281</td>\n",
              "      <td>1.143823</td>\n",
              "      <td>1.304825</td>\n",
              "      <td>1.452414</td>\n",
              "      <td>1.608496</td>\n",
              "      <td>...</td>\n",
              "      <td>18.539452</td>\n",
              "      <td>18.750242</td>\n",
              "      <td>18.950405</td>\n",
              "      <td>19.161797</td>\n",
              "      <td>19.362540</td>\n",
              "      <td>19.574493</td>\n",
              "      <td>19.775777</td>\n",
              "      <td>19.988252</td>\n",
              "      <td>20.190039</td>\n",
              "      <td>20.402998</td>\n",
              "    </tr>\n",
              "    <tr>\n",
              "      <th>1</th>\n",
              "      <td>0.210575</td>\n",
              "      <td>0.388892</td>\n",
              "      <td>0.588823</td>\n",
              "      <td>0.756539</td>\n",
              "      <td>0.946036</td>\n",
              "      <td>1.103587</td>\n",
              "      <td>1.283272</td>\n",
              "      <td>1.431430</td>\n",
              "      <td>1.602187</td>\n",
              "      <td>1.741920</td>\n",
              "      <td>...</td>\n",
              "      <td>17.143516</td>\n",
              "      <td>17.312545</td>\n",
              "      <td>17.508763</td>\n",
              "      <td>17.678279</td>\n",
              "      <td>17.874968</td>\n",
              "      <td>18.044936</td>\n",
              "      <td>18.242061</td>\n",
              "      <td>18.412450</td>\n",
              "      <td>18.609979</td>\n",
              "      <td>18.780757</td>\n",
              "    </tr>\n",
              "    <tr>\n",
              "      <th>2</th>\n",
              "      <td>0.157510</td>\n",
              "      <td>0.326906</td>\n",
              "      <td>0.481508</td>\n",
              "      <td>0.646951</td>\n",
              "      <td>0.796814</td>\n",
              "      <td>0.956953</td>\n",
              "      <td>1.101135</td>\n",
              "      <td>1.255376</td>\n",
              "      <td>1.393578</td>\n",
              "      <td>1.541867</td>\n",
              "      <td>...</td>\n",
              "      <td>16.793330</td>\n",
              "      <td>16.988055</td>\n",
              "      <td>17.170055</td>\n",
              "      <td>17.365410</td>\n",
              "      <td>17.548019</td>\n",
              "      <td>17.743962</td>\n",
              "      <td>17.927139</td>\n",
              "      <td>18.123632</td>\n",
              "      <td>18.307340</td>\n",
              "      <td>18.504344</td>\n",
              "    </tr>\n",
              "    <tr>\n",
              "      <th>3</th>\n",
              "      <td>0.190548</td>\n",
              "      <td>0.354887</td>\n",
              "      <td>0.535380</td>\n",
              "      <td>0.690083</td>\n",
              "      <td>0.861417</td>\n",
              "      <td>1.007479</td>\n",
              "      <td>1.170724</td>\n",
              "      <td>1.309269</td>\n",
              "      <td>1.465580</td>\n",
              "      <td>1.597777</td>\n",
              "      <td>...</td>\n",
              "      <td>18.216346</td>\n",
              "      <td>18.405586</td>\n",
              "      <td>18.616170</td>\n",
              "      <td>18.805916</td>\n",
              "      <td>19.016988</td>\n",
              "      <td>19.207204</td>\n",
              "      <td>19.418729</td>\n",
              "      <td>19.609381</td>\n",
              "      <td>19.821324</td>\n",
              "      <td>20.012378</td>\n",
              "    </tr>\n",
              "    <tr>\n",
              "      <th>4</th>\n",
              "      <td>0.190764</td>\n",
              "      <td>0.347433</td>\n",
              "      <td>0.533186</td>\n",
              "      <td>0.684547</td>\n",
              "      <td>0.864827</td>\n",
              "      <td>1.010665</td>\n",
              "      <td>1.185462</td>\n",
              "      <td>1.325933</td>\n",
              "      <td>1.495541</td>\n",
              "      <td>1.631052</td>\n",
              "      <td>...</td>\n",
              "      <td>17.991645</td>\n",
              "      <td>18.165233</td>\n",
              "      <td>18.370709</td>\n",
              "      <td>18.544703</td>\n",
              "      <td>18.750569</td>\n",
              "      <td>18.924939</td>\n",
              "      <td>19.131166</td>\n",
              "      <td>19.305882</td>\n",
              "      <td>19.512441</td>\n",
              "      <td>19.687475</td>\n",
              "    </tr>\n",
              "    <tr>\n",
              "      <th>...</th>\n",
              "      <td>...</td>\n",
              "      <td>...</td>\n",
              "      <td>...</td>\n",
              "      <td>...</td>\n",
              "      <td>...</td>\n",
              "      <td>...</td>\n",
              "      <td>...</td>\n",
              "      <td>...</td>\n",
              "      <td>...</td>\n",
              "      <td>...</td>\n",
              "      <td>...</td>\n",
              "      <td>...</td>\n",
              "      <td>...</td>\n",
              "      <td>...</td>\n",
              "      <td>...</td>\n",
              "      <td>...</td>\n",
              "      <td>...</td>\n",
              "      <td>...</td>\n",
              "      <td>...</td>\n",
              "      <td>...</td>\n",
              "      <td>...</td>\n",
              "    </tr>\n",
              "    <tr>\n",
              "      <th>738</th>\n",
              "      <td>-0.030125</td>\n",
              "      <td>-0.061393</td>\n",
              "      <td>-0.076393</td>\n",
              "      <td>-0.092055</td>\n",
              "      <td>-0.091144</td>\n",
              "      <td>-0.090738</td>\n",
              "      <td>-0.073728</td>\n",
              "      <td>-0.057299</td>\n",
              "      <td>-0.024432</td>\n",
              "      <td>0.007613</td>\n",
              "      <td>...</td>\n",
              "      <td>18.551829</td>\n",
              "      <td>18.772183</td>\n",
              "      <td>19.001225</td>\n",
              "      <td>19.221824</td>\n",
              "      <td>19.451096</td>\n",
              "      <td>19.671914</td>\n",
              "      <td>19.901394</td>\n",
              "      <td>20.122406</td>\n",
              "      <td>20.352068</td>\n",
              "      <td>20.573252</td>\n",
              "    </tr>\n",
              "    <tr>\n",
              "      <th>739</th>\n",
              "      <td>-0.049607</td>\n",
              "      <td>-0.092598</td>\n",
              "      <td>-0.117978</td>\n",
              "      <td>-0.136607</td>\n",
              "      <td>-0.137694</td>\n",
              "      <td>-0.132269</td>\n",
              "      <td>-0.109683</td>\n",
              "      <td>-0.081082</td>\n",
              "      <td>-0.035908</td>\n",
              "      <td>0.014618</td>\n",
              "      <td>...</td>\n",
              "      <td>21.991901</td>\n",
              "      <td>22.238024</td>\n",
              "      <td>22.489577</td>\n",
              "      <td>22.735684</td>\n",
              "      <td>22.987213</td>\n",
              "      <td>23.233290</td>\n",
              "      <td>23.484781</td>\n",
              "      <td>23.730812</td>\n",
              "      <td>23.982252</td>\n",
              "      <td>24.228225</td>\n",
              "    </tr>\n",
              "    <tr>\n",
              "      <th>740</th>\n",
              "      <td>0.062801</td>\n",
              "      <td>-0.035775</td>\n",
              "      <td>0.009591</td>\n",
              "      <td>-0.099533</td>\n",
              "      <td>-0.058873</td>\n",
              "      <td>-0.167788</td>\n",
              "      <td>-0.122818</td>\n",
              "      <td>-0.224032</td>\n",
              "      <td>-0.168596</td>\n",
              "      <td>-0.257124</td>\n",
              "      <td>...</td>\n",
              "      <td>17.315893</td>\n",
              "      <td>17.441430</td>\n",
              "      <td>17.717611</td>\n",
              "      <td>17.842838</td>\n",
              "      <td>18.118708</td>\n",
              "      <td>18.243624</td>\n",
              "      <td>18.519185</td>\n",
              "      <td>18.643793</td>\n",
              "      <td>18.919047</td>\n",
              "      <td>19.043348</td>\n",
              "    </tr>\n",
              "    <tr>\n",
              "      <th>741</th>\n",
              "      <td>-0.048324</td>\n",
              "      <td>-0.090839</td>\n",
              "      <td>-0.106881</td>\n",
              "      <td>-0.118641</td>\n",
              "      <td>-0.105434</td>\n",
              "      <td>-0.089422</td>\n",
              "      <td>-0.049885</td>\n",
              "      <td>-0.008944</td>\n",
              "      <td>0.054167</td>\n",
              "      <td>0.117376</td>\n",
              "      <td>...</td>\n",
              "      <td>21.726748</td>\n",
              "      <td>21.965198</td>\n",
              "      <td>22.214396</td>\n",
              "      <td>22.452907</td>\n",
              "      <td>22.702158</td>\n",
              "      <td>22.940713</td>\n",
              "      <td>23.190000</td>\n",
              "      <td>23.428581</td>\n",
              "      <td>23.677886</td>\n",
              "      <td>23.916477</td>\n",
              "    </tr>\n",
              "    <tr>\n",
              "      <th>742</th>\n",
              "      <td>-0.051806</td>\n",
              "      <td>-0.096082</td>\n",
              "      <td>-0.113537</td>\n",
              "      <td>-0.125019</td>\n",
              "      <td>-0.111233</td>\n",
              "      <td>-0.093011</td>\n",
              "      <td>-0.051032</td>\n",
              "      <td>-0.006095</td>\n",
              "      <td>0.061159</td>\n",
              "      <td>0.129976</td>\n",
              "      <td>...</td>\n",
              "      <td>22.719907</td>\n",
              "      <td>22.965453</td>\n",
              "      <td>23.221029</td>\n",
              "      <td>23.466559</td>\n",
              "      <td>23.722111</td>\n",
              "      <td>23.967611</td>\n",
              "      <td>24.223124</td>\n",
              "      <td>24.468578</td>\n",
              "      <td>24.724039</td>\n",
              "      <td>24.969435</td>\n",
              "    </tr>\n",
              "  </tbody>\n",
              "</table>\n",
              "<p>743 rows × 120 columns</p>\n",
              "</div>"
            ],
            "text/plain": [
              "          0         1         2         3         4         5         6    \\\n",
              "0    0.163351  0.336782  0.497893  0.668152  0.825393  0.991281  1.143823   \n",
              "1    0.210575  0.388892  0.588823  0.756539  0.946036  1.103587  1.283272   \n",
              "2    0.157510  0.326906  0.481508  0.646951  0.796814  0.956953  1.101135   \n",
              "3    0.190548  0.354887  0.535380  0.690083  0.861417  1.007479  1.170724   \n",
              "4    0.190764  0.347433  0.533186  0.684547  0.864827  1.010665  1.185462   \n",
              "..        ...       ...       ...       ...       ...       ...       ...   \n",
              "738 -0.030125 -0.061393 -0.076393 -0.092055 -0.091144 -0.090738 -0.073728   \n",
              "739 -0.049607 -0.092598 -0.117978 -0.136607 -0.137694 -0.132269 -0.109683   \n",
              "740  0.062801 -0.035775  0.009591 -0.099533 -0.058873 -0.167788 -0.122818   \n",
              "741 -0.048324 -0.090839 -0.106881 -0.118641 -0.105434 -0.089422 -0.049885   \n",
              "742 -0.051806 -0.096082 -0.113537 -0.125019 -0.111233 -0.093011 -0.051032   \n",
              "\n",
              "          7         8         9    ...        110        111        112  \\\n",
              "0    1.304825  1.452414  1.608496  ...  18.539452  18.750242  18.950405   \n",
              "1    1.431430  1.602187  1.741920  ...  17.143516  17.312545  17.508763   \n",
              "2    1.255376  1.393578  1.541867  ...  16.793330  16.988055  17.170055   \n",
              "3    1.309269  1.465580  1.597777  ...  18.216346  18.405586  18.616170   \n",
              "4    1.325933  1.495541  1.631052  ...  17.991645  18.165233  18.370709   \n",
              "..        ...       ...       ...  ...        ...        ...        ...   \n",
              "738 -0.057299 -0.024432  0.007613  ...  18.551829  18.772183  19.001225   \n",
              "739 -0.081082 -0.035908  0.014618  ...  21.991901  22.238024  22.489577   \n",
              "740 -0.224032 -0.168596 -0.257124  ...  17.315893  17.441430  17.717611   \n",
              "741 -0.008944  0.054167  0.117376  ...  21.726748  21.965198  22.214396   \n",
              "742 -0.006095  0.061159  0.129976  ...  22.719907  22.965453  23.221029   \n",
              "\n",
              "           113        114        115        116        117        118  \\\n",
              "0    19.161797  19.362540  19.574493  19.775777  19.988252  20.190039   \n",
              "1    17.678279  17.874968  18.044936  18.242061  18.412450  18.609979   \n",
              "2    17.365410  17.548019  17.743962  17.927139  18.123632  18.307340   \n",
              "3    18.805916  19.016988  19.207204  19.418729  19.609381  19.821324   \n",
              "4    18.544703  18.750569  18.924939  19.131166  19.305882  19.512441   \n",
              "..         ...        ...        ...        ...        ...        ...   \n",
              "738  19.221824  19.451096  19.671914  19.901394  20.122406  20.352068   \n",
              "739  22.735684  22.987213  23.233290  23.484781  23.730812  23.982252   \n",
              "740  17.842838  18.118708  18.243624  18.519185  18.643793  18.919047   \n",
              "741  22.452907  22.702158  22.940713  23.190000  23.428581  23.677886   \n",
              "742  23.466559  23.722111  23.967611  24.223124  24.468578  24.724039   \n",
              "\n",
              "           119  \n",
              "0    20.402998  \n",
              "1    18.780757  \n",
              "2    18.504344  \n",
              "3    20.012378  \n",
              "4    19.687475  \n",
              "..         ...  \n",
              "738  20.573252  \n",
              "739  24.228225  \n",
              "740  19.043348  \n",
              "741  23.916477  \n",
              "742  24.969435  \n",
              "\n",
              "[743 rows x 120 columns]"
            ]
          },
          "execution_count": 1540,
          "metadata": {},
          "output_type": "execute_result"
        }
      ],
      "source": [
        "pd.DataFrame(fittedLogPrices)"
      ]
    },
    {
      "cell_type": "markdown",
      "metadata": {
        "id": "KW6ajXTOB2xK"
      },
      "source": [
        "# Plotting"
      ]
    },
    {
      "cell_type": "code",
      "execution_count": 1541,
      "metadata": {
        "colab": {
          "base_uri": "https://localhost:8080/",
          "height": 543
        },
        "id": "qqnWnslTBrRi",
        "outputId": "c3d83f00-c5b3-48a0-bf07-3e2d99933510"
      },
      "outputs": [
        {
          "data": {
            "text/plain": [
              "<Figure size 1728x864 with 0 Axes>"
            ]
          },
          "metadata": {},
          "output_type": "display_data"
        },
        {
          "data": {
            "image/png": "[encoded data removed]",
            "text/plain": [
              "<Figure size 1200x600 with 1 Axes>"
            ]
          },
          "metadata": {},
          "output_type": "display_data"
        }
      ],
      "source": [
        "# Plot fit for 1y, 5y, 10y bonds\n",
        "plt.interactive(True)\n",
        "plt.figure(dpi=144)\n",
        "fig, axes = plt.subplots()\n",
        "axes.plot(plot_dates, rawYields[:, (11,59, 119)], label=\"Observed Yields\", linewidth=1)\n",
        "axes.plot(plot_dates, fittedYields[:, (11,59, 119)], label = \"Fitted Yields\", linewidth=1)\n",
        "axes.xaxis.set_major_locator(mdates.AutoDateLocator())\n",
        "axes.xaxis.set_major_formatter(mdates.DateFormatter('%Y'))\n",
        "fig.autofmt_xdate()\n",
        "axes.set_xlabel(\"date\")\n",
        "axes.set_ylabel(\"Yields\")\n",
        "axes.set_title(\"Yield fit\")\n",
        "axes.legend()\n",
        "plt.show()"
      ]
    },
    {
      "cell_type": "code",
      "execution_count": null,
      "metadata": {},
      "outputs": [],
      "source": []
    }
  ],
  "metadata": {
    "colab": {
      "provenance": [],
      "toc_visible": true
    },
    "kernelspec": {
      "display_name": "Python 3",
      "name": "python3"
    },
    "language_info": {
      "codemirror_mode": {
        "name": "ipython",
        "version": 3
      },
      "file_extension": ".py",
      "mimetype": "text/x-python",
      "name": "python",
      "nbconvert_exporter": "python",
      "pygments_lexer": "ipython3",
      "version": "3.10.2"
    }
  },
  "nbformat": 4,
  "nbformat_minor": 0
}
